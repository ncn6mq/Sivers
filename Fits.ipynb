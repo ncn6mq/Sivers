{
 "cells": [
  {
   "cell_type": "code",
   "execution_count": 1,
   "id": "certain-glass",
   "metadata": {},
   "outputs": [],
   "source": [
    "%load_ext autoreload\n",
    "%autoreload 2"
   ]
  },
  {
   "cell_type": "code",
   "execution_count": 2,
   "id": "final-child",
   "metadata": {},
   "outputs": [],
   "source": [
    "import numpy as np\n",
    "import pandas as pd\n",
    "from scipy import optimize\n",
    "import matplotlib.pyplot as plt\n",
    "\n",
    "import functions"
   ]
  },
  {
   "cell_type": "code",
   "execution_count": 3,
   "id": "copyrighted-chancellor",
   "metadata": {},
   "outputs": [],
   "source": [
    "pip = functions.PiPlus()"
   ]
  },
  {
   "cell_type": "code",
   "execution_count": 16,
   "id": "occasional-binary",
   "metadata": {},
   "outputs": [],
   "source": [
    "df = pd.read_csv('COMPASS_d_2009.csv')"
   ]
  },
  {
   "cell_type": "code",
   "execution_count": 17,
   "id": "prescription-visit",
   "metadata": {},
   "outputs": [],
   "source": [
    "pipdata = df.loc[df['hadron'] == 'pi+', :]"
   ]
  },
  {
   "cell_type": "code",
   "execution_count": 18,
   "id": "stable-mileage",
   "metadata": {},
   "outputs": [],
   "source": [
    "pipkins = np.array(pipdata[['x', 'z', 'phT', 'Q2']])"
   ]
  },
  {
   "cell_type": "code",
   "execution_count": 19,
   "id": "rapid-auction",
   "metadata": {},
   "outputs": [
    {
     "data": {
      "text/plain": [
       "array([0.00139287, 0.00181429, 0.00233682, 0.00279853, 0.00362094,\n",
       "       0.00487984, 0.00621739, 0.00652098, 0.00305777, 0.00325126,\n",
       "       0.00300023, 0.00272009, 0.00266475, 0.00287355, 0.00397921,\n",
       "       0.00735364, 0.0162003 , 0.00077871, 0.00128017, 0.00180345,\n",
       "       0.00235905, 0.00304852, 0.00398625, 0.00548485, 0.0083014 ,\n",
       "       0.01873337])"
      ]
     },
     "execution_count": 19,
     "metadata": {},
     "output_type": "execute_result"
    }
   ],
   "source": [
    "pip.sivers(pipkins, 2, 2, 2, 2, 2, 2, 2)"
   ]
  },
  {
   "cell_type": "code",
   "execution_count": 20,
   "id": "fuzzy-madness",
   "metadata": {},
   "outputs": [],
   "source": [
    "pars, cov = optimize.curve_fit(pip.sivers, pipkins, pipdata['Siv'],\n",
    "                               sigma=pipdata['tot_err'], method='lm')"
   ]
  },
  {
   "cell_type": "markdown",
   "id": "connected-sword",
   "metadata": {},
   "source": [
    "Parameters in order of: Nu, au, bu, Ndbar, adbar, bdbar, m1"
   ]
  },
  {
   "cell_type": "code",
   "execution_count": 21,
   "id": "continental-commons",
   "metadata": {},
   "outputs": [
    {
     "data": {
      "text/plain": [
       "array([ 3.58423516e-01,  1.19369737e+00,  2.10079251e-07, -2.55374861e-01,\n",
       "        1.00000000e+00,  1.00000000e+00,  1.01487045e+00])"
      ]
     },
     "execution_count": 21,
     "metadata": {},
     "output_type": "execute_result"
    }
   ],
   "source": [
    "pars"
   ]
  },
  {
   "cell_type": "code",
   "execution_count": 24,
   "id": "listed-vermont",
   "metadata": {},
   "outputs": [],
   "source": [
    "xdepend = pipdata.loc[pipdata['1D_dependence'] == 'x', :]"
   ]
  },
  {
   "cell_type": "code",
   "execution_count": 25,
   "id": "enclosed-subscription",
   "metadata": {},
   "outputs": [],
   "source": [
    "xdependkins = np.array(xdepend[['x', 'z', 'phT', 'Q2']])"
   ]
  },
  {
   "cell_type": "code",
   "execution_count": 27,
   "id": "objective-optimum",
   "metadata": {},
   "outputs": [],
   "source": [
    "yhat = pip.sivers(xdependkins, *pars)"
   ]
  },
  {
   "cell_type": "code",
   "execution_count": 35,
   "id": "committed-panic",
   "metadata": {},
   "outputs": [
    {
     "data": {
      "text/plain": [
       "7.452197824594449"
      ]
     },
     "execution_count": 35,
     "metadata": {},
     "output_type": "execute_result"
    }
   ],
   "source": [
    "np.sum(((xdepend['Siv'] - yhat)/xdepend['tot_err']) ** 2)"
   ]
  },
  {
   "cell_type": "code",
   "execution_count": 32,
   "id": "threaded-enterprise",
   "metadata": {},
   "outputs": [
    {
     "data": {
      "image/png": "[encoded data removed]",
      "text/plain": [
       "<Figure size 432x288 with 1 Axes>"
      ]
     },
     "metadata": {
      "needs_background": "light"
     },
     "output_type": "display_data"
    }
   ],
   "source": [
    "plt.scatter(xdepend['x'], xdepend['Siv'], label='true')\n",
    "plt.scatter(xdepend['x'], yhat, label='fitted')\n",
    "plt.xlabel('x')\n",
    "plt.ylabel('$A^{\\pi+}_{Siv}$')\n",
    "plt.legend()\n",
    "plt.show()"
   ]
  },
  {
   "cell_type": "code",
   "execution_count": null,
   "id": "welsh-dietary",
   "metadata": {},
   "outputs": [],
   "source": []
  }
 ],
 "metadata": {
  "kernelspec": {
   "display_name": "Python 3",
   "language": "python",
   "name": "python3"
  },
  "language_info": {
   "codemirror_mode": {
    "name": "ipython",
    "version": 3
   },
   "file_extension": ".py",
   "mimetype": "text/x-python",
   "name": "python",
   "nbconvert_exporter": "python",
   "pygments_lexer": "ipython3",
   "version": "3.8.5"
  }
 },
 "nbformat": 4,
 "nbformat_minor": 5
}
