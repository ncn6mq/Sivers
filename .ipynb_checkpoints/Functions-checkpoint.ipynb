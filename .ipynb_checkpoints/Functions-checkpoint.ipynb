{
 "cells": [
  {
   "cell_type": "markdown",
   "metadata": {},
   "source": [
    "# $\\pi^+$"
   ]
  },
  {
   "cell_type": "markdown",
   "metadata": {},
   "source": [
    "$$A_{Siv}^{\\pi^{+}}(x,z,p_{hT}) = \\mathcal{A}_0(z,p_{hT},M_1)\\left( \\frac{\\mathcal{N}_u e_u^2 f_{u}(x)D_{\\pi^+/u}(z) + {\\mathcal{N}_{\\bar{d}} e_{\\bar{d}}^2 f_{\\bar{d}}(x)D_{\\pi^+/{\\bar{d}}}(z)}}{e_u^2 f_{u}(x)D_{\\pi^+/u}(z)+e_{\\bar{d}}^2 f_{\\bar{d}}(x)D_{\\pi^+/\\bar{d}}(z)}\\right)$$"
   ]
  },
  {
   "cell_type": "markdown",
   "metadata": {},
   "source": [
    "## Functions"
   ]
  },
  {
   "cell_type": "markdown",
   "metadata": {},
   "source": [
    "$$\\mathcal{A}_0(z,p_{hT},M_1) = \\frac{[z^2 \\langle k_\\perp^2 \\rangle + \\langle p_\\perp^2 \\rangle  ]\\langle k_S^2 \\rangle^2}{[z^2 \\langle k_S^2 \\rangle + \\langle p_\\perp^2 \\rangle ]\\langle k_\\perp^2 \\rangle^2} \\exp \\left[- \\frac{p_{hT}^2z^2 \\left(\\langle k_S^2 \\rangle - \\langle k_\\perp^2 \\rangle \\right)}{\\left(z^2 \\langle k_S^2 \\rangle + \\langle p_\\perp^2 \\rangle \\right)\\left(z^2 \\langle k_\\perp^2 \\rangle + \\langle p_\\perp^2 \\rangle  \\right)} \\right]\\times \\frac{\\sqrt{2e}zp_{hT}}{M_1}$$"
   ]
  },
  {
   "cell_type": "markdown",
   "metadata": {},
   "source": [
    "$$\\mathcal{N}_q(x) = N_q x^{\\alpha_q}(1-x)^{\\beta_q}\\frac{(\\alpha_q + \\beta_q)^{(\\alpha_q + \\beta_q)}}{\\alpha_q^{\\alpha_q}\\beta_q^{\\beta_q}}$$"
   ]
  },
  {
   "cell_type": "markdown",
   "metadata": {},
   "source": [
    "$f_{u}(x)$ is the lhapdf\n",
    "\n",
    "$D_{\\pi^+/u}(z)$ is the fragmentation function"
   ]
  },
  {
   "cell_type": "markdown",
   "metadata": {},
   "source": [
    "## Constants"
   ]
  },
  {
   "cell_type": "markdown",
   "metadata": {},
   "source": [
    "- $\\langle k_\\perp^2 \\rangle$ \n",
    "- $\\langle p_\\perp^2 \\rangle$\n",
    "- $\\langle k_S^2 \\rangle$\n",
    "- $e_u$ = $2/3$\n",
    "- $e_\\bar{u}$ = $-2/3$\n",
    "- $e_d$ = $-1/3$\n",
    "- $e_\\bar{d}$ = $1/3$\n",
    "- $e_s$ = $-1/3$\n",
    "- $e_\\bar{s}$ = $1/3$\n",
    "- $e$ = $1/137$"
   ]
  },
  {
   "cell_type": "markdown",
   "metadata": {},
   "source": [
    "## Unknown parameters"
   ]
  },
  {
   "cell_type": "markdown",
   "metadata": {},
   "source": [
    "- $N_u$\n",
    "- $\\alpha_u$\n",
    "- $\\beta_u$\n",
    "- $N_{\\bar{d}}$\n",
    "- $\\alpha_{\\bar{d}}$\n",
    "- $\\beta_{\\bar{d}}$\n",
    "- $M_1$"
   ]
  },
  {
   "cell_type": "markdown",
   "metadata": {},
   "source": [
    "$$\\mathcal{N}_q(x) = N_q x^{\\alpha_q}(1-x)^{\\beta_q}\\frac{(\\alpha_q + \\beta_q)^{(\\alpha_q + \\beta_q)}}{\\alpha_q^{\\alpha_q}\\beta_q^{\\beta_q}}$$"
   ]
  },
  {
   "cell_type": "code",
   "execution_count": null,
   "metadata": {},
   "outputs": [],
   "source": [
    "import lhapdf\n",
    "\n",
    "class hadronFunc(object):\n",
    "    def __init__(self, kperp2avg=.57, pperp2avg=.12, pdfset='JAM19PDF_proton_nlo',\n",
    "                 ff_pion='JAM19FF_pion_nlo', ff_kaon='JAM19FF_kaon_nlo', QQ=10):\n",
    "        \n",
    "        self.pdfData = lhapdf.mkPDF(pdfset)\n",
    "        self.ffData = lhapdf.mkPDF(ff_pion, 0)\n",
    "        # needs to be extended to generalize for kaons\n",
    "        self.QQ = QQ\n",
    "        self.kperp2avg = kperp2avg\n",
    "        self.pperp2avg = pperp2avg\n",
    "        self.eu = 2/3\n",
    "        self.eubar = -2/3\n",
    "        self.ed = -1/3\n",
    "        self.edbar = 1/3\n",
    "        self.es = -1/3\n",
    "        self.esbar = 1/3\n",
    "        self.e = 1/137\n",
    "    \n",
    "\n",
    "    def pdf(flavor, x):\n",
    "        return self.pdfData.xfxQ2(flavor, x, self.QQ)\n",
    "    \n",
    "    def ff(flavor, z):\n",
    "        return self.pdfData.xfxQ2(flavor, z, self.QQ)\n",
    "    \n",
    "    \n",
    "    def A0(z, pht, m1):\n",
    "        ks2avg = self.kperp2avg*m1^2/(m1^2 + self.kperp2avg)\n",
    "        topfirst = (z^2*self.kperp2avg + self.pperp2avg)*kperp2avg^2\n",
    "        bottomfirst = (z^2*ks2avg + self.pperp2avg) * kperp2avg^2\n",
    "        exptop = pht^2 * z^2 * (ks2avg - self.kperp2avg)\n",
    "        expbottom = (z^2*ks2avg + self.pperp2avg) * (z^2*self.kperp2avg + self.pperp2avg)\n",
    "        last = np.sqrt(2*self.e) * z * pht / m1\n",
    "        \n",
    "        return (topfirst/bottomfirst) * np.exp(-exptop/expbottom) * last\n",
    "    \n",
    "    \n",
    "    def NN(x, n, a, b):\n",
    "        return n*x^a * (1 - x)^b * (((a + b)^(a + b))/(a^a * b^b))\n",
    "\n",
    "    def NNanti(x, n, a, b):\n",
    "        a = 0\n",
    "        b = 0\n",
    "        return n\n",
    "    \n",
    "    def pdf(x, flavor):\n",
    "        \n",
    "    \n",
    "    "
   ]
  }
 ],
 "metadata": {
  "kernelspec": {
   "display_name": "Py38Root",
   "language": "python",
   "name": "python3"
  },
  "language_info": {
   "codemirror_mode": {
    "name": "ipython",
    "version": 3
   },
   "file_extension": ".py",
   "mimetype": "text/x-python",
   "name": "python",
   "nbconvert_exporter": "python",
   "pygments_lexer": "ipython3",
   "version": "3.8.3"
  }
 },
 "nbformat": 4,
 "nbformat_minor": 2
}
