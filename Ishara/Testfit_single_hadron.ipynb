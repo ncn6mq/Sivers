{
 "cells": [
  {
   "cell_type": "code",
   "execution_count": 3,
   "metadata": {},
   "outputs": [],
   "source": [
    "import lhapdf\n",
    "import pandas as pd\n",
    "import numpy as np\n",
    "import matplotlib.pyplot as plt\n",
    "import scipy.optimize as opt\n",
    "\n",
    "\n",
    "# Global Constants\n",
    "M1_test=np.sqrt(0.8)\n",
    "Kp2A=0.57\n",
    "Pp2A=0.12\n",
    "\n",
    "ee=1\n",
    "eU=2/3\n",
    "eUbar=-2/3\n",
    "eD=-1/3\n",
    "eDbar=1/3\n",
    "eS=-1/3\n",
    "eSbar=1/3\n",
    "\n",
    "AlphaU_test=1.0\n",
    "BetaU_test=6.6\n",
    "AlphaD_test=1.9\n",
    "BetaD_test=10\n",
    "AlphaS_test=0\n",
    "BetaS_test=0\n",
    "\n",
    "NU_test=0.18\n",
    "NUbar_test=-0.01\n",
    "ND_test=-0.52\n",
    "NDbar_test=-0.06\n",
    "NS_test=0\n",
    "NSbar_test=0\n",
    "\n",
    "\n",
    "Datafile='Data/HERMES_p_2009.csv'\n",
    "PDFdataset = lhapdf.mkPDF(\"JAM19PDF_proton_nlo\")\n",
    "#PDFdataset = lhapdf.mkPDF(\"CT10nnlo\")\n",
    "FF_pion_dataset=[\"JAM19FF_pion_nlo\"]"
   ]
  },
  {
   "cell_type": "code",
   "execution_count": 4,
   "metadata": {},
   "outputs": [],
   "source": [
    "def dataslice(filename,Had,Var):\n",
    "    tempdf=pd.read_csv(filename)\n",
    "    temp_slice=tempdf[(tempdf[\"hadron\"]==Had)&(tempdf[\"1D_dependence\"]==Var)]\n",
    "    tempQ2=np.array(temp_slice[\"Q2\"])\n",
    "    tempX=np.array(temp_slice[\"x\"])\n",
    "    tempZ=np.array(temp_slice[\"z\"])\n",
    "    tempPHT=np.array(temp_slice[\"phT\"])\n",
    "    tempSiv=np.array(temp_slice[\"Siv\"])\n",
    "    temperrSiv=np.array(temp_slice[\"tot_err\"])\n",
    "    return tempQ2,tempX,tempZ,tempPHT,tempSiv,temperrSiv\n",
    "\n",
    "def ks2Avg(m1,kperp2Avg):\n",
    "    test_ks2Avg=((m1**2)*kperp2Avg)/((m1**2)+kperp2Avg)\n",
    "    return test_ks2Avg\n",
    "\n",
    "def A0(z,pht,m1,kperp2Avg,pperp2Avg,eCharg):\n",
    "    tempA0part1=(((z**2)*kperp2Avg+pperp2Avg)*((ks2Avg(m1,kperp2Avg))**2))/((((z**2)*(ks2Avg(m1,kperp2Avg))+pperp2Avg)**2)*kperp2Avg)\n",
    "    tempA0part21=(pht**2)*(z**2)*(ks2Avg(m1,kperp2Avg) - kperp2Avg)\n",
    "    tempA0part22=((z**2)*(ks2Avg(m1,kperp2Avg))+pperp2Avg)*((z**2)*kperp2Avg+pperp2Avg)\n",
    "    tempA0part2=np.exp(-tempA0part21/tempA0part22)\n",
    "    tempA0part3=(np.sqrt(2*eCharg))*z*pht/m1\n",
    "    tempA0=tempA0part1*tempA0part2*tempA0part3\n",
    "    return tempA0\n",
    "\n",
    "\n",
    "def NNu(x,Nu,alphau,betau):\n",
    "    tempNNu = Nu*(x**alphau)*((1-x)**(betau))*((alphau+betau)**(alphau+betau))/((alphau**alphau)*(betau**betau))\n",
    "    return tempNNu\n",
    "\n",
    "def NNubar(x,Nubar,alphaubar=0,betaubar=0):\n",
    "    #tempNNubar = Nubar*(x**alphaubar)*((1-x)**(betaubar))*((alphaubar+betaubar)**(alphaubar+betaubar))/((alphaubar**alphaubar)*(betaubar**betaubar))\n",
    "    tempNNubar = Nubar\n",
    "    return tempNNubar\n",
    "\n",
    "def NNd(x,Nd,alphad,betad):\n",
    "    tempNNd = Nd*(x**alphad)*((1-x)**(betad))*((alphad+betad)**(alphad+betad))/((alphad**alphad)*(betad**betad))\n",
    "    return tempNNd\n",
    "\n",
    "def NNdbar(x,Ndbar,alphadbar=0,betadbar=0):\n",
    "    #tempNNdbar = Ndbar*(x**alphadbar)*((1-x)**(betadbar))*((alphadbar+betadbar)**(alphadbar+betadbar))/((alphadbar**alphadbar)*(betadbar**betadbar))\n",
    "    tempNNdbar = Ndbar\n",
    "    return tempNNdbar\n",
    "\n",
    "def NNs(x,Ns,alphas,betas):\n",
    "    #tempNNu = Ns*(x**alphas)*((1-x)**(betas))*((alphas+betas)**(alphas+betas))/((alphas**alphas)*(betas**betas))\n",
    "    tempNNs = 0\n",
    "    return tempNNs\n",
    "\n",
    "def NNsbar(x,Nsbar,alphasbar,betasbar):\n",
    "    #tempNNsbar = Nsbar*(x**alphasbar)*((1-x)**(betasbar))*((alphasbar+betasbar)**(alphasbar+betasbar))/((alphasbar**alphasbar)*(betasbar**betasbar))\n",
    "    tempNNsbar = 0\n",
    "    return tempNNsbar\n",
    "\n",
    "\n",
    "def xFxQ2(dataset,flavor,x,QQ):\n",
    "    temp_parton_dist_x=(dataset.xfxQ2(flavor, x, QQ))\n",
    "    return temp_parton_dist_x\n",
    "\n",
    "def zFzQ(dataset,flavor,zz,QQ):\n",
    "    # Here \"0\" represents the central values from the girds\n",
    "    temp_zD1=lhapdf.mkPDF(dataset[0], 0)\n",
    "    zD1_vec=(temp_zD1.xfxQ2(flavor,zz,QQ))\n",
    "    return zD1_vec"
   ]
  },
  {
   "cell_type": "code",
   "execution_count": 25,
   "metadata": {},
   "outputs": [],
   "source": [
    "### Definitions for hadron = Pi_plus ####\n",
    "\n",
    "def ASivPiPFitting(KV,m1,Nu,alphau,betau,Ndbar):\n",
    "    QQ,x,z,pht=KV\n",
    "    kperp2Avg=Kp2A\n",
    "    pperpAvg=Pp2A\n",
    "    eCharg=ee\n",
    "    eu=eU\n",
    "    edbar=eDbar\n",
    "    array_size=len(x)\n",
    "    tempASivPiP_val=[]\n",
    "    for i in range(0,array_size):\n",
    "        Ucontribution1 = NNu(x[i],Nu,alphau,betau)*(eu**2)*xFxQ2(PDFdataset,2,x[i],QQ[i])*zFzQ(FF_pion_dataset,2,z[i],QQ[i])\n",
    "        dbarcontribution1 = NNdbar(x[i],Ndbar)*(edbar**2)*xFxQ2(PDFdataset,-1,x[i],QQ[i])*zFzQ(FF_pion_dataset,-1,z[i],QQ[i])\n",
    "        Ucontribution2 = (eu**2)*xFxQ2(PDFdataset,2,x[i],QQ[i])*zFzQ(FF_pion_dataset,2,z[i],QQ[i])\n",
    "        dbarcontribution2 = (edbar**2)*xFxQ2(PDFdataset,-1,x[i],QQ[i])*zFzQ(FF_pion_dataset,-1,z[i],QQ[i])\n",
    "        tempNumerator = Ucontribution1 + dbarcontribution1\n",
    "        tempDenominator = Ucontribution2 + dbarcontribution2\n",
    "        tempASivPiP = A0(z[i],pht[i],m1,kperp2Avg,pperpAvg,eCharg)*tempNumerator/tempDenominator\n",
    "        tempASivPiP_val.append(tempASivPiP)\n",
    "    return tempASivPiP_val\n",
    "\n",
    "def Chi2PiP(datfile,hadron,dependence,m1,Nu,alphau,betau,Ndbar):\n",
    "    data_points=len(dataslice(datfile,hadron,dependence)[0])\n",
    "    temp_kinematics=np.array(dataslice(datfile,hadron,dependence))\n",
    "    tempQ=temp_kinematics[0]\n",
    "    tempX=temp_kinematics[1]\n",
    "    tempZ=temp_kinematics[2]\n",
    "    tempphT=temp_kinematics[3]\n",
    "    temp_exp=temp_kinematics[4]\n",
    "    temp_sigma=temp_kinematics[5]\n",
    "    temp_theory=ASivPiPFitting((tempQ,tempX,tempZ,tempphT),m1,Nu,alphau,betau,Ndbar)\n",
    "    temp_Chi2_val=np.sum(((temp_theory-temp_exp)/temp_sigma)**2)\n",
    "    return temp_Chi2_val"
   ]
  },
  {
   "cell_type": "code",
   "execution_count": 17,
   "metadata": {},
   "outputs": [],
   "source": [
    "### Here we concatenate data corresponding to a given hadron in the SIDIS process\n",
    "\n",
    "def Kin_hadron(datfile,hadron):\n",
    "    ##### Q2 ################\n",
    "    tempQ2_x=np.array(dataslice(datfile,hadron,\"x\")[0])\n",
    "    tempQ2_z=np.array(dataslice(datfile,hadron,\"z\")[0])\n",
    "    tempQ2_phT=np.array(dataslice(datfile,hadron,\"phT\")[0])\n",
    "    tempQ2=np.concatenate((tempQ2_x,tempQ2_z,tempQ2_phT))\n",
    "    ##### X ################\n",
    "    tempX_x=np.array(dataslice(datfile,hadron,\"x\")[1])\n",
    "    tempX_z=np.array(dataslice(datfile,hadron,\"z\")[1])\n",
    "    tempX_phT=np.array(dataslice(datfile,hadron,\"phT\")[1])\n",
    "    tempX=np.concatenate((tempX_x,tempX_z,tempX_phT))\n",
    "    ##### Z ################\n",
    "    tempZ_x=np.array(dataslice(datfile,hadron,\"x\")[2])\n",
    "    tempZ_z=np.array(dataslice(datfile,hadron,\"z\")[2])\n",
    "    tempZ_phT=np.array(dataslice(datfile,hadron,\"phT\")[2])\n",
    "    tempZ=np.concatenate((tempZ_x,tempZ_z,tempZ_phT))\n",
    "    ##### phT ################\n",
    "    tempphT_x=np.array(dataslice(datfile,hadron,\"x\")[3])\n",
    "    tempphT_z=np.array(dataslice(datfile,hadron,\"z\")[3])\n",
    "    tempphT_phT=np.array(dataslice(datfile,hadron,\"phT\")[3])\n",
    "    tempphT=np.concatenate((tempphT_x,tempphT_z,tempphT_phT))\n",
    "    return tempQ2,tempX,tempZ,tempphT\n",
    "\n",
    "  \n",
    "def ASivPiP_data(datfile,hadron):\n",
    "    ##### Asy ################\n",
    "    tempAsy_x=np.array(dataslice(datfile,hadron,\"x\")[4])\n",
    "    tempAsy_z=np.array(dataslice(datfile,hadron,\"z\")[4])\n",
    "    tempAsy_phT=np.array(dataslice(datfile,hadron,\"phT\")[4])\n",
    "    tempAsy=np.concatenate((tempAsy_x,tempAsy_z,tempAsy_phT))\n",
    "    ##### err ################\n",
    "    tempAsyErr_x=np.array(dataslice(datfile,hadron,\"x\")[5])\n",
    "    tempAsyErr_z=np.array(dataslice(datfile,hadron,\"z\")[5])\n",
    "    tempAsyErr_phT=np.array(dataslice(datfile,hadron,\"phT\")[5])\n",
    "    tempAsyErr=np.concatenate((tempAsyErr_x,tempAsyErr_z,tempAsyErr_phT))\n",
    "    return tempAsy,tempAsyErr\n"
   ]
  },
  {
   "cell_type": "code",
   "execution_count": 10,
   "metadata": {},
   "outputs": [
    {
     "name": "stdout",
     "output_type": "stream",
     "text": [
      "[4.91162004e+03 5.04552221e+02 8.04656412e-01 2.61855427e+00\n",
      " 4.65542195e+02]\n"
     ]
    }
   ],
   "source": [
    "### Fitting to the data for single hadron (all x,z,phT dependencies are considered)    \n",
    "kin=Kin_hadron(Datafile,\"pi+\")\n",
    "test_func=ASivPiP_data(Datafile,\"pi+\")[0]\n",
    "test_func_err=ASivPiP_data(Datafile,\"pi+\")[1]\n",
    "#p0=1,1,1,1,1\n",
    "p0=M1_test,NU_test,AlphaU_test,BetaU_test,NDbar_test\n",
    "result, result_cov=opt.curve_fit(ASivPiPFitting,kin,test_func,p0,sigma=test_func_err,method='lm')\n",
    "print(result)"
   ]
  },
  {
   "cell_type": "code",
   "execution_count": 39,
   "metadata": {},
   "outputs": [],
   "source": [
    "dep=\"x\""
   ]
  },
  {
   "cell_type": "code",
   "execution_count": 40,
   "metadata": {},
   "outputs": [
    {
     "data": {
      "text/plain": [
       "8.848673248355267"
      ]
     },
     "execution_count": 40,
     "metadata": {},
     "output_type": "execute_result"
    }
   ],
   "source": [
    "Chi2PiP(Datafile,\"pi+\",dep,result[0],result[1],result[2],result[3],result[4]) "
   ]
  },
  {
   "cell_type": "code",
   "execution_count": 41,
   "metadata": {},
   "outputs": [
    {
     "data": {
      "image/png": "[encoded data removed]",
      "text/plain": [
       "<Figure size 432x288 with 1 Axes>"
      ]
     },
     "metadata": {
      "needs_background": "light"
     },
     "output_type": "display_data"
    }
   ],
   "source": [
    "def PlotSiversPiP(datfile,hadron,dependence,m1,Nu,alphau,betau,Ndbar):\n",
    "    kperp2Avg=Kp2A\n",
    "    pperpAvg=Pp2A\n",
    "    eCharg=ee\n",
    "    eu=eU\n",
    "    edbar=eDbar\n",
    "    data_points=len(dataslice(datfile,hadron,dependence)[0])\n",
    "    temp_kinematics=np.array(dataslice(datfile,hadron,dependence))\n",
    "    if(dependence==\"x\"):\n",
    "        dep_index=1\n",
    "    elif(dependence==\"z\"):\n",
    "        dep_index=2\n",
    "    elif(dependence==\"phT\"):\n",
    "        dep_index=3\n",
    "    tempQ=temp_kinematics[0]\n",
    "    tempX=temp_kinematics[1]\n",
    "    tempZ=temp_kinematics[2]\n",
    "    tempphT=temp_kinematics[3]\n",
    "    temp_exp=temp_kinematics[4]\n",
    "    temp_sigma=temp_kinematics[5]\n",
    "    temp_theory=ASivPiPFitting((tempQ,tempX,tempZ,tempphT),m1,Nu,alphau,betau,Ndbar)\n",
    "    plt.plot(temp_kinematics[dep_index],temp_theory,'red')\n",
    "    plt.errorbar(temp_kinematics[dep_index],temp_kinematics[4],temp_kinematics[5],fmt='o',color='blue')\n",
    "\n",
    "PlotSiversPiP(Datafile,\"pi+\",dep,result[0],result[1],result[2],result[3],result[4])\n",
    "#plt.ylim(0.0,0.1)\n",
    "#plt.xlim(0.0,0.35)"
   ]
  },
  {
   "cell_type": "code",
   "execution_count": 42,
   "metadata": {},
   "outputs": [
    {
     "data": {
      "image/png": "[encoded data removed]",
      "text/plain": [
       "<Figure size 432x288 with 1 Axes>"
      ]
     },
     "metadata": {
      "needs_background": "light"
     },
     "output_type": "display_data"
    }
   ],
   "source": [
    "### This shows the solution by Anzelmino's fit results\n",
    "PlotSiversPiP(Datafile,\"pi+\",dep,M1_test,NU_test,AlphaU_test,BetaU_test,NDbar_test)"
   ]
  },
  {
   "cell_type": "code",
   "execution_count": null,
   "metadata": {},
   "outputs": [],
   "source": []
  }
 ],
 "metadata": {
  "kernelspec": {
   "display_name": "Python 3",
   "language": "python",
   "name": "python3"
  },
  "language_info": {
   "codemirror_mode": {
    "name": "ipython",
    "version": 3
   },
   "file_extension": ".py",
   "mimetype": "text/x-python",
   "name": "python",
   "nbconvert_exporter": "python",
   "pygments_lexer": "ipython3",
   "version": "3.8.5"
  }
 },
 "nbformat": 4,
 "nbformat_minor": 4
}
