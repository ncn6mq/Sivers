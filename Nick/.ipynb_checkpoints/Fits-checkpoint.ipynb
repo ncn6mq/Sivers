{
 "cells": [
  {
   "cell_type": "code",
   "execution_count": 1,
   "id": "pediatric-government",
   "metadata": {},
   "outputs": [],
   "source": [
    "%load_ext autoreload\n",
    "%autoreload 2"
   ]
  },
  {
   "cell_type": "code",
   "execution_count": 2,
   "id": "hispanic-natural",
   "metadata": {},
   "outputs": [],
   "source": [
    "import numpy as np\n",
    "import pandas as pd\n",
    "from scipy import optimize\n",
    "import matplotlib.pyplot as plt\n",
    "\n",
    "import functions"
   ]
  },
  {
   "cell_type": "code",
   "execution_count": 3,
   "id": "impressed-flexibility",
   "metadata": {},
   "outputs": [],
   "source": [
    "pd.set_option('display.max_rows', 1000)"
   ]
  },
  {
   "cell_type": "code",
   "execution_count": 4,
   "id": "lightweight-walter",
   "metadata": {},
   "outputs": [],
   "source": [
    "pip = functions.PiPlus()"
   ]
  },
  {
   "cell_type": "code",
   "execution_count": 5,
   "id": "accomplished-execution",
   "metadata": {},
   "outputs": [],
   "source": [
    "comp = pd.read_csv('COMPASS_d_2009.csv')\n",
    "df = pd.read_csv('HERMES_p_2009.csv')\n",
    "#df = pd.concat([comp, herm])"
   ]
  },
  {
   "cell_type": "code",
   "execution_count": 6,
   "id": "featured-progressive",
   "metadata": {},
   "outputs": [],
   "source": [
    "def dataslicercombined(df, hadrons, dependencies):\n",
    "    '''\n",
    "    returns X, y, err\n",
    "    '''\n",
    "    df = df.loc[df['hadron'].isin(hadrons), :]\n",
    "    df = df.loc[df['1D_dependence'].isin(dependencies), :]\n",
    "    X = np.array(df[['x', 'z', 'phT', 'Q2', 'hadron']])\n",
    "    for i, had in enumerate(['pi+', 'pi-', 'pi0', 'k+', 'k-']):\n",
    "        X[X[:, 4] == had, 4] = i\n",
    "    X = X.astype('float')\n",
    "    return X, np.array(df['Siv']), np.array(df['tot_err'])"
   ]
  },
  {
   "cell_type": "code",
   "execution_count": 7,
   "id": "administrative-worthy",
   "metadata": {},
   "outputs": [],
   "source": [
    "def dataslicersingle(df, hadrons, dependencies):\n",
    "    df = df.loc[df['hadron'].isin(hadrons), :]\n",
    "    df = df.loc[df['1D_dependence'].isin(dependencies), :]\n",
    "    return np.array(df[['x', 'z', 'phT', 'Q2']]), np.array(df['Siv']), np.array(df['tot_err'])    "
   ]
  },
  {
   "cell_type": "code",
   "execution_count": 8,
   "id": "different-diabetes",
   "metadata": {},
   "outputs": [],
   "source": [
    "def chisquare(y, yhat, err):\n",
    "    return np.sum(((y - yhat)/err)**2)"
   ]
  },
  {
   "cell_type": "markdown",
   "id": "polish-score",
   "metadata": {},
   "source": [
    "# Fit for x dependence of pi+ hermes"
   ]
  },
  {
   "cell_type": "code",
   "execution_count": 9,
   "id": "included-intervention",
   "metadata": {},
   "outputs": [],
   "source": [
    "X, y, err = dataslicersingle(df, ['pi+'], ['x', 'z'])"
   ]
  },
  {
   "cell_type": "code",
   "execution_count": 10,
   "id": "collective-thousand",
   "metadata": {},
   "outputs": [
    {
     "name": "stderr",
     "output_type": "stream",
     "text": [
      "/home/nick/Documents/Sivers/functions.py:51: RuntimeWarning: invalid value encountered in double_scalars\n",
      "  return n * x**a * (1 - x)**b * (((a + b)**(a + b))/(a**a * b**b))\n"
     ]
    }
   ],
   "source": [
    "pars, cov = optimize.curve_fit(pip.sivers, X, y,\n",
    "                               sigma=err, method='lm', p0=[.18, 1, 6.6, -.06, np.sqrt(.8)])"
   ]
  },
  {
   "cell_type": "code",
   "execution_count": 11,
   "id": "transparent-toronto",
   "metadata": {},
   "outputs": [
    {
     "data": {
      "text/plain": [
       "array([58.16189724,  2.49584753,  6.59709869, 34.09781524,  2.1729529 ])"
      ]
     },
     "execution_count": 11,
     "metadata": {},
     "output_type": "execute_result"
    }
   ],
   "source": [
    "np.diag(cov)"
   ]
  },
  {
   "cell_type": "code",
   "execution_count": 12,
   "id": "alive-vampire",
   "metadata": {},
   "outputs": [
    {
     "data": {
      "text/plain": [
       "array([ 2.61513874e-01,  7.74986065e-02,  3.04244688e-07, -8.63840543e-01,\n",
       "        1.77065627e+00])"
      ]
     },
     "execution_count": 12,
     "metadata": {},
     "output_type": "execute_result"
    }
   ],
   "source": [
    "pars"
   ]
  },
  {
   "cell_type": "code",
   "execution_count": 13,
   "id": "blond-resort",
   "metadata": {},
   "outputs": [],
   "source": [
    "yhat = pip.sivers(X, *pars)"
   ]
  },
  {
   "cell_type": "markdown",
   "id": "radio-representation",
   "metadata": {},
   "source": [
    "## $\\chi^2/dof$"
   ]
  },
  {
   "cell_type": "code",
   "execution_count": 14,
   "id": "widespread-wireless",
   "metadata": {},
   "outputs": [
    {
     "data": {
      "text/plain": [
       "0.9002899835425229"
      ]
     },
     "execution_count": 14,
     "metadata": {},
     "output_type": "execute_result"
    }
   ],
   "source": [
    "chisquare(y, yhat, err)/len(X)"
   ]
  },
  {
   "cell_type": "markdown",
   "id": "opponent-character",
   "metadata": {},
   "source": [
    "## Plot"
   ]
  },
  {
   "cell_type": "code",
   "execution_count": 15,
   "id": "otherwise-briefs",
   "metadata": {},
   "outputs": [
    {
     "data": {
      "image/png": "[encoded data removed]",
      "text/plain": [
       "<Figure size 432x288 with 1 Axes>"
      ]
     },
     "metadata": {
      "needs_background": "light"
     },
     "output_type": "display_data"
    }
   ],
   "source": [
    "plt.plot(X[:, 0], yhat, label='yhat')\n",
    "plt.plot(X[:, 0], y, 'ro', label='y')\n",
    "plt.legend()\n",
    "plt.ylabel('Sivers')\n",
    "plt.xlabel('x')\n",
    "plt.show()"
   ]
  },
  {
   "cell_type": "markdown",
   "id": "sought-sweet",
   "metadata": {},
   "source": [
    "# Distribution"
   ]
  },
  {
   "cell_type": "code",
   "execution_count": 31,
   "id": "obvious-courtesy",
   "metadata": {},
   "outputs": [],
   "source": [
    "def uncertainty(pars, cov, X, func):\n",
    "    res = []\n",
    "    for i in range(1000):\n",
    "        temp_pars = np.random.multivariate_normal(pars, cov)\n",
    "        temp_pars = list(map(float, np.round(temp_pars, 5)))\n",
    "        d = func(X, *temp_pars).real\n",
    "        res.append(list(d))\n",
    "    return np.array(res)"
   ]
  },
  {
   "cell_type": "code",
   "execution_count": 32,
   "id": "published-fossil",
   "metadata": {},
   "outputs": [],
   "source": [
    "t = uncertainty(pars, cov, X, pip.sivers)"
   ]
  },
  {
   "cell_type": "code",
   "execution_count": 33,
   "id": "elder-danish",
   "metadata": {},
   "outputs": [
    {
     "data": {
      "text/plain": [
       "array([[-0.01501912, -0.02752331, -0.04939905, ..., -0.03704403,\n",
       "        -0.03805896, -0.04774087],\n",
       "       [ 0.76114383,  1.14298675,  1.48454443, ...,  1.63566762,\n",
       "         2.02862704,  2.3868784 ],\n",
       "       [-0.22882925, -0.38519172, -0.55207926, ..., -0.65852195,\n",
       "        -0.9080312 , -1.24127633],\n",
       "       ...,\n",
       "       [ 0.11830659,  0.13427133,  0.15735683, ..., -0.07082593,\n",
       "        -0.50680733, -1.60601435],\n",
       "       [ 0.02004333,  0.02100944,  0.02385815, ..., -0.01299688,\n",
       "        -0.05452585, -0.11803584],\n",
       "       [ 0.0088784 ,  0.01242228,  0.01511543, ...,  0.01598622,\n",
       "         0.01858154,  0.02135549]])"
      ]
     },
     "execution_count": 33,
     "metadata": {},
     "output_type": "execute_result"
    }
   ],
   "source": [
    "t"
   ]
  },
  {
   "cell_type": "code",
   "execution_count": 23,
   "id": "talented-phone",
   "metadata": {},
   "outputs": [
    {
     "data": {
      "text/plain": [
       "(1000, 14)"
      ]
     },
     "execution_count": 23,
     "metadata": {},
     "output_type": "execute_result"
    }
   ],
   "source": [
    "t.shape"
   ]
  },
  {
   "cell_type": "code",
   "execution_count": 24,
   "id": "respective-planner",
   "metadata": {},
   "outputs": [
    {
     "data": {
      "text/plain": [
       "array([4.78769579e+01, 4.77254480e+01, 5.67375473e+01, 6.76712838e+01,\n",
       "       7.99931202e+01, 8.61811417e+01, 8.25903881e+01, 6.88672768e+03,\n",
       "       6.86084918e+02, 1.49917322e+02, 4.60089712e+01, 1.21977541e+01,\n",
       "       3.75877435e+00, 2.00080125e+00])"
      ]
     },
     "execution_count": 24,
     "metadata": {},
     "output_type": "execute_result"
    }
   ],
   "source": [
    "t.std(axis=0)"
   ]
  },
  {
   "cell_type": "code",
   "execution_count": 27,
   "id": "heard-clerk",
   "metadata": {},
   "outputs": [
    {
     "data": {
      "image/png": "[encoded data removed]",
      "text/plain": [
       "<Figure size 432x288 with 1 Axes>"
      ]
     },
     "metadata": {
      "needs_background": "light"
     },
     "output_type": "display_data"
    }
   ],
   "source": [
    "plt.errorbar(X[:, 0], yhat, yerr=t.std(axis=0), fmt='bo', label='yhat')\n",
    "plt.plot(X[:, 0], y, 'ro', label='y')\n",
    "#plt.ylim(0, .1)\n",
    "plt.legend()\n",
    "plt.ylabel('Sivers')\n",
    "plt.xlabel('x')\n",
    "plt.show()"
   ]
  },
  {
   "cell_type": "markdown",
   "id": "searching-flooring",
   "metadata": {},
   "source": [
    "# Fit for all dependencies of pi+ Hermes"
   ]
  },
  {
   "cell_type": "code",
   "execution_count": 295,
   "id": "beautiful-local",
   "metadata": {},
   "outputs": [
    {
     "name": "stderr",
     "output_type": "stream",
     "text": [
      "/home/nick/Documents/Sivers/functions.py:51: RuntimeWarning: invalid value encountered in double_scalars\n",
      "  return n * x**a * (1 - x)**b * (((a + b)**(a + b))/(a**a * b**b))\n"
     ]
    }
   ],
   "source": [
    "X, y, err = dataslicersingle(df, ['pi+'], ['x', 'z', 'phT'])\n",
    "\n",
    "pars, cov = optimize.curve_fit(pip.sivers, X, y,\n",
    "                               sigma=err, method='lm') #p0=[.18, 1, 6.6, -.06, np.sqrt(.8)])"
   ]
  },
  {
   "cell_type": "code",
   "execution_count": 296,
   "id": "assisted-score",
   "metadata": {},
   "outputs": [
    {
     "data": {
      "text/plain": [
       "array([6.00612274e+02, 8.04641424e-01, 2.61849555e+00, 5.54146411e+02,\n",
       "       5.84672175e+03])"
      ]
     },
     "execution_count": 296,
     "metadata": {},
     "output_type": "execute_result"
    }
   ],
   "source": [
    "pars"
   ]
  },
  {
   "cell_type": "code",
   "execution_count": 297,
   "id": "atmospheric-domestic",
   "metadata": {},
   "outputs": [],
   "source": [
    "yhat = pip.sivers(X, *pars)"
   ]
  },
  {
   "cell_type": "markdown",
   "id": "gross-knowing",
   "metadata": {},
   "source": [
    "## $\\chi^2/dof$"
   ]
  },
  {
   "cell_type": "code",
   "execution_count": 298,
   "id": "gross-romance",
   "metadata": {},
   "outputs": [
    {
     "data": {
      "text/plain": [
       "24.20836770447005"
      ]
     },
     "execution_count": 298,
     "metadata": {},
     "output_type": "execute_result"
    }
   ],
   "source": [
    "chisquare(y, yhat, err)"
   ]
  },
  {
   "cell_type": "markdown",
   "id": "golden-shopper",
   "metadata": {},
   "source": [
    "# Plot"
   ]
  },
  {
   "cell_type": "code",
   "execution_count": 223,
   "id": "happy-chemical",
   "metadata": {},
   "outputs": [
    {
     "data": {
      "image/png": "[encoded data removed]",
      "text/plain": [
       "<Figure size 432x288 with 1 Axes>"
      ]
     },
     "metadata": {
      "needs_background": "light"
     },
     "output_type": "display_data"
    }
   ],
   "source": [
    "plt.plot(X[:, 0], yhat, 'o', label='yhat')\n",
    "plt.plot(X[:, 0], y, 'ro', label='y')\n",
    "plt.legend()\n",
    "plt.ylabel('Sivers')\n",
    "plt.xlabel('x')\n",
    "plt.show()"
   ]
  },
  {
   "cell_type": "markdown",
   "id": "seeing-america",
   "metadata": {},
   "source": [
    "## Test"
   ]
  },
  {
   "cell_type": "markdown",
   "id": "nearby-sodium",
   "metadata": {},
   "source": [
    "Changes:\n",
    "\n",
    "line 202, 197, 228, 233"
   ]
  },
  {
   "cell_type": "code",
   "execution_count": 2,
   "id": "tired-butler",
   "metadata": {},
   "outputs": [
    {
     "ename": "NameError",
     "evalue": "name 'pd' is not defined",
     "output_type": "error",
     "traceback": [
      "\u001b[0;31m---------------------------------------------------------------------------\u001b[0m",
      "\u001b[0;31mNameError\u001b[0m                                 Traceback (most recent call last)",
      "\u001b[0;32m<ipython-input-2-81b12f33fc33>\u001b[0m in \u001b[0;36m<module>\u001b[0;34m\u001b[0m\n\u001b[0;32m----> 1\u001b[0;31m \u001b[0mdf\u001b[0m \u001b[0;34m=\u001b[0m \u001b[0mpd\u001b[0m\u001b[0;34m.\u001b[0m\u001b[0mread_csv\u001b[0m\u001b[0;34m(\u001b[0m\u001b[0;34m'HERMES_p_2009.csv'\u001b[0m\u001b[0;34m)\u001b[0m\u001b[0;34m\u001b[0m\u001b[0;34m\u001b[0m\u001b[0m\n\u001b[0m\u001b[1;32m      2\u001b[0m \u001b[0;34m\u001b[0m\u001b[0m\n\u001b[1;32m      3\u001b[0m \u001b[0mcombined\u001b[0m \u001b[0;34m=\u001b[0m \u001b[0mfunctions\u001b[0m\u001b[0;34m.\u001b[0m\u001b[0mCombinedHadrons\u001b[0m\u001b[0;34m(\u001b[0m\u001b[0;34m)\u001b[0m\u001b[0;34m\u001b[0m\u001b[0;34m\u001b[0m\u001b[0m\n\u001b[1;32m      4\u001b[0m \u001b[0;34m\u001b[0m\u001b[0m\n\u001b[1;32m      5\u001b[0m \u001b[0mX\u001b[0m\u001b[0;34m,\u001b[0m \u001b[0my\u001b[0m\u001b[0;34m,\u001b[0m \u001b[0merr\u001b[0m \u001b[0;34m=\u001b[0m \u001b[0mdataslicercombined\u001b[0m\u001b[0;34m(\u001b[0m\u001b[0mdf\u001b[0m\u001b[0;34m,\u001b[0m \u001b[0;34m[\u001b[0m\u001b[0;34m'pi+'\u001b[0m\u001b[0;34m,\u001b[0m \u001b[0;34m'pi-'\u001b[0m\u001b[0;34m,\u001b[0m \u001b[0;34m'pi0'\u001b[0m\u001b[0;34m,\u001b[0m \u001b[0;34m'k+'\u001b[0m\u001b[0;34m,\u001b[0m \u001b[0;34m'k-'\u001b[0m\u001b[0;34m]\u001b[0m\u001b[0;34m,\u001b[0m \u001b[0;34m[\u001b[0m\u001b[0;34m'x'\u001b[0m\u001b[0;34m,\u001b[0m \u001b[0;34m'z'\u001b[0m\u001b[0;34m,\u001b[0m \u001b[0;34m'phT'\u001b[0m\u001b[0;34m]\u001b[0m\u001b[0;34m)\u001b[0m\u001b[0;34m\u001b[0m\u001b[0;34m\u001b[0m\u001b[0m\n",
      "\u001b[0;31mNameError\u001b[0m: name 'pd' is not defined"
     ]
    }
   ],
   "source": [
    "df = pd.read_csv('HERMES_p_2009.csv')\n",
    "\n",
    "combined = functions.CombinedHadrons()\n",
    "\n",
    "X, y, err = dataslicercombined(df, ['pi+', 'pi-', 'pi0', 'k+', 'k-'], ['x', 'z', 'phT'])\n",
    "\n",
    "pars, cov = optimize.curve_fit(combined.siversAllCurveFitFactorized, X, y,\n",
    "                               sigma=err, method='lm')"
   ]
  },
  {
   "cell_type": "code",
   "execution_count": 27,
   "id": "brown-wealth",
   "metadata": {},
   "outputs": [
    {
     "data": {
      "text/plain": [
       "array([9.86684548e-01, 9.55832098e-01, 5.31181886e-01, 9.83978071e-01,\n",
       "       9.47658714e-01, 4.09187645e-01, 1.00786272e+00, 1.02797080e+00,\n",
       "       1.26776649e+00, 9.76980453e-01, 9.20512434e-01, 6.39348357e-07,\n",
       "       1.01134908e+00])"
      ]
     },
     "execution_count": 27,
     "metadata": {},
     "output_type": "execute_result"
    }
   ],
   "source": [
    "pars"
   ]
  },
  {
   "cell_type": "code",
   "execution_count": 548,
   "id": "beneficial-midwest",
   "metadata": {},
   "outputs": [],
   "source": [
    "test = functions.PiPlus()"
   ]
  },
  {
   "cell_type": "code",
   "execution_count": 54,
   "id": "bulgarian-distance",
   "metadata": {},
   "outputs": [],
   "source": [
    "test = functions.CombinedHadrons()"
   ]
  },
  {
   "cell_type": "code",
   "execution_count": 63,
   "id": "skilled-niger",
   "metadata": {},
   "outputs": [],
   "source": [
    "X, y, err = dataslicercombined(df, ['k-'], ['x'])"
   ]
  },
  {
   "cell_type": "code",
   "execution_count": 64,
   "id": "important-slave",
   "metadata": {},
   "outputs": [
    {
     "data": {
      "text/plain": [
       "array([0.48702536, 0.39501202, 0.3512743 , 0.33865242, 0.33530185,\n",
       "       0.32158573, 0.33738677])"
      ]
     },
     "execution_count": 64,
     "metadata": {},
     "output_type": "execute_result"
    }
   ],
   "source": [
    "test.siversAllCurveFitFactorized(X, *([1]*13))"
   ]
  },
  {
   "cell_type": "code",
   "execution_count": 66,
   "id": "palestinian-powder",
   "metadata": {},
   "outputs": [],
   "source": [
    "import scipy"
   ]
  },
  {
   "cell_type": "code",
   "execution_count": 67,
   "id": "asian-dream",
   "metadata": {},
   "outputs": [
    {
     "data": {
      "text/plain": [
       "'1.6.1'"
      ]
     },
     "execution_count": 67,
     "metadata": {},
     "output_type": "execute_result"
    }
   ],
   "source": [
    "scipy.__version__"
   ]
  },
  {
   "cell_type": "markdown",
   "id": "modified-conjunction",
   "metadata": {},
   "source": [
    "# Fit for all hadrons, all dependencies 2009 Hermes"
   ]
  },
  {
   "cell_type": "code",
   "execution_count": 71,
   "id": "informal-prophet",
   "metadata": {},
   "outputs": [],
   "source": [
    "df = pd.read_csv('HERMES_p_2009.csv')"
   ]
  },
  {
   "cell_type": "code",
   "execution_count": 34,
   "id": "secret-arrow",
   "metadata": {},
   "outputs": [],
   "source": [
    "combined = functions.CombinedHadrons()"
   ]
  },
  {
   "cell_type": "code",
   "execution_count": 72,
   "id": "undefined-exercise",
   "metadata": {},
   "outputs": [],
   "source": [
    "X, y, err = dataslicercombined(df, ['pi+', 'pi-', 'pi0', 'k+', 'k-'], ['x', 'z', 'phT'])"
   ]
  },
  {
   "cell_type": "code",
   "execution_count": 36,
   "id": "vertical-object",
   "metadata": {
    "scrolled": true
   },
   "outputs": [
    {
     "name": "stderr",
     "output_type": "stream",
     "text": [
      "/home/nick/Documents/Sivers/functions.py:51: RuntimeWarning: invalid value encountered in double_scalars\n",
      "  return n * x**a * (1 - x)**b * (((a + b)**(a + b))/(a**a * b**b))\n",
      "/home/nick/Documents/Sivers/functions.py:51: RuntimeWarning: overflow encountered in double_scalars\n",
      "  return n * x**a * (1 - x)**b * (((a + b)**(a + b))/(a**a * b**b))\n"
     ]
    }
   ],
   "source": [
    "pars, cov = optimize.curve_fit(combined.siversAllCurveFitFactorized, X, y,\n",
    "                               sigma=err, method='lm')"
   ]
  },
  {
   "cell_type": "code",
   "execution_count": 37,
   "id": "given-endorsement",
   "metadata": {},
   "outputs": [
    {
     "data": {
      "text/plain": [
       "array([  0.24184837,   0.6055052 ,  -8.8505396 ,   0.12171249,\n",
       "         3.46459428,  34.4976027 ,   1.77129423,   1.97691626,\n",
       "        32.06750474,   3.44611904,   4.88729414, 110.94847141,\n",
       "         3.76154706])"
      ]
     },
     "execution_count": 37,
     "metadata": {},
     "output_type": "execute_result"
    }
   ],
   "source": [
    "pars"
   ]
  },
  {
   "cell_type": "code",
   "execution_count": 38,
   "id": "altered-naples",
   "metadata": {},
   "outputs": [
    {
     "data": {
      "text/plain": [
       "array([1.29369956e-01, 9.35893742e-01, 1.45530756e+05, 2.40344676e-02,\n",
       "       1.63033804e+01, 1.82046528e+03, 3.03189051e+00, 1.57263257e+01,\n",
       "       3.06850557e+06, 8.51715287e+01, 4.48366602e+02, 3.50588046e+07,\n",
       "       2.14515938e+01])"
      ]
     },
     "execution_count": 38,
     "metadata": {},
     "output_type": "execute_result"
    }
   ],
   "source": [
    "np.diag(cov)"
   ]
  },
  {
   "cell_type": "code",
   "execution_count": 39,
   "id": "according-digest",
   "metadata": {},
   "outputs": [],
   "source": [
    "yhat = combined.siversAllCurveFitFactorized(X, *pars)"
   ]
  },
  {
   "cell_type": "markdown",
   "id": "smooth-seeker",
   "metadata": {},
   "source": [
    "## $\\chi^2/dof$"
   ]
  },
  {
   "cell_type": "code",
   "execution_count": 40,
   "id": "impressed-briefs",
   "metadata": {},
   "outputs": [
    {
     "data": {
      "text/plain": [
       "1.5892948050190376"
      ]
     },
     "execution_count": 40,
     "metadata": {},
     "output_type": "execute_result"
    }
   ],
   "source": [
    "chisquare(y, yhat, err)/len(X)"
   ]
  },
  {
   "cell_type": "markdown",
   "id": "published-chest",
   "metadata": {},
   "source": [
    "## Plot for Pi+ X dependency"
   ]
  },
  {
   "cell_type": "code",
   "execution_count": 51,
   "id": "developing-arbor",
   "metadata": {},
   "outputs": [],
   "source": [
    "X, y, err = dataslicercombined(df, ['pi+'], ['x'])"
   ]
  },
  {
   "cell_type": "code",
   "execution_count": 52,
   "id": "therapeutic-midnight",
   "metadata": {},
   "outputs": [],
   "source": [
    "yhat = combined.siversAllCurveFitFactorized(X, *pars)"
   ]
  },
  {
   "cell_type": "code",
   "execution_count": 53,
   "id": "intense-gibraltar",
   "metadata": {},
   "outputs": [
    {
     "data": {
      "image/png": "[encoded data removed]",
      "text/plain": [
       "<Figure size 432x288 with 1 Axes>"
      ]
     },
     "metadata": {
      "needs_background": "light"
     },
     "output_type": "display_data"
    }
   ],
   "source": [
    "plt.plot(X[:, 0], yhat, label='yhat')\n",
    "plt.errorbar(X[:, 0], y, yerr=err, fmt='ro', label='y')\n",
    "plt.legend()\n",
    "plt.ylabel('Sivers')\n",
    "plt.xlabel('x')\n",
    "plt.show()"
   ]
  },
  {
   "cell_type": "markdown",
   "id": "atmospheric-blind",
   "metadata": {},
   "source": [
    "# For Hermes 2020 data"
   ]
  },
  {
   "cell_type": "code",
   "execution_count": 19,
   "id": "acknowledged-laugh",
   "metadata": {},
   "outputs": [],
   "source": [
    "df = pd.read_csv('HERMES_p_2020.csv')"
   ]
  },
  {
   "cell_type": "code",
   "execution_count": 10,
   "id": "accurate-xerox",
   "metadata": {},
   "outputs": [],
   "source": [
    "combined = functions.CombinedHadrons()"
   ]
  },
  {
   "cell_type": "code",
   "execution_count": 20,
   "id": "lesbian-principal",
   "metadata": {},
   "outputs": [
    {
     "name": "stderr",
     "output_type": "stream",
     "text": [
      "/home/nick/Documents/Sivers/functions.py:51: RuntimeWarning: overflow encountered in double_scalars\n",
      "  return n * x**a * (1 - x)**b * (((a + b)**(a + b))/(a**a * b**b))\n",
      "/home/nick/Documents/Sivers/functions.py:51: RuntimeWarning: invalid value encountered in double_scalars\n",
      "  return n * x**a * (1 - x)**b * (((a + b)**(a + b))/(a**a * b**b))\n"
     ]
    }
   ],
   "source": [
    "X, y, err = dataslicercombined(df, ['pi+', 'pi-', 'pi0', 'k+', 'k-'], ['x', 'z', 'phT'])\n",
    "\n",
    "pars, cov = optimize.curve_fit(combined.siversAllCurveFitFactorized, X, y,\n",
    "                               sigma=err, method='lm')"
   ]
  },
  {
   "cell_type": "code",
   "execution_count": 21,
   "id": "incomplete-output",
   "metadata": {},
   "outputs": [
    {
     "data": {
      "text/plain": [
       "array([2.58528220e+02, 5.76707897e+02, 1.91012740e+04, 4.81207740e+01,\n",
       "       3.24462539e+03, 4.02421869e+04, 4.55626815e+00, 4.39665351e+00,\n",
       "       3.20129364e+00, 1.79763748e+01, 2.39693143e+01, 2.17431059e+01,\n",
       "       3.80811268e+03])"
      ]
     },
     "execution_count": 21,
     "metadata": {},
     "output_type": "execute_result"
    }
   ],
   "source": [
    "pars"
   ]
  },
  {
   "cell_type": "code",
   "execution_count": 22,
   "id": "handled-steering",
   "metadata": {},
   "outputs": [],
   "source": [
    "yhat = combined.siversAllCurveFitFactorized(X, *pars)"
   ]
  },
  {
   "cell_type": "markdown",
   "id": "elegant-declaration",
   "metadata": {},
   "source": [
    "## $\\chi^2/dof$"
   ]
  },
  {
   "cell_type": "code",
   "execution_count": 23,
   "id": "bibliographic-registrar",
   "metadata": {},
   "outputs": [
    {
     "data": {
      "text/plain": [
       "1.603806024432846"
      ]
     },
     "execution_count": 23,
     "metadata": {},
     "output_type": "execute_result"
    }
   ],
   "source": [
    "chisquare(y, yhat, err)/len(X)"
   ]
  },
  {
   "cell_type": "markdown",
   "id": "polar-excess",
   "metadata": {},
   "source": [
    "## Plot"
   ]
  },
  {
   "cell_type": "code",
   "execution_count": 24,
   "id": "automatic-monaco",
   "metadata": {},
   "outputs": [
    {
     "data": {
      "image/png": "[encoded data removed]",
      "text/plain": [
       "<Figure size 432x288 with 1 Axes>"
      ]
     },
     "metadata": {
      "needs_background": "light"
     },
     "output_type": "display_data"
    }
   ],
   "source": [
    "X, y, err = dataslicercombined(df, ['pi+'], ['x'])\n",
    "\n",
    "yhat = combined.siversAllCurveFitFactorized(X, *pars)\n",
    "\n",
    "plt.plot(X[:, 0], yhat, label='yhat')\n",
    "plt.plot(X[:, 0], y, 'ro', label='y')\n",
    "plt.ylim(0, .1)\n",
    "plt.legend()\n",
    "plt.ylabel('Sivers')\n",
    "plt.xlabel('x')\n",
    "plt.show()"
   ]
  },
  {
   "cell_type": "markdown",
   "id": "treated-seattle",
   "metadata": {},
   "source": [
    "# Combined all"
   ]
  },
  {
   "cell_type": "code",
   "execution_count": 13,
   "id": "brown-joyce",
   "metadata": {},
   "outputs": [],
   "source": [
    "herm9 = pd.read_csv('HERMES_p_2009.csv').dropna(axis=0, how='all').dropna(axis=1, how='all')\n",
    "herm20 = pd.read_csv('HERMES_p_2020.csv').dropna(axis=0, how='all').dropna(axis=1, how='all')\n",
    "comp9 = pd.read_csv('COMPASS_d_2009.csv').dropna(axis=0, how='all').dropna(axis=1, how='all')\n",
    "comp15 = pd.read_csv('COMPASS_p_2015.csv').dropna(axis=0, how='all').dropna(axis=1, how='all')"
   ]
  },
  {
   "cell_type": "code",
   "execution_count": 14,
   "id": "beneficial-commissioner",
   "metadata": {},
   "outputs": [],
   "source": [
    "df = pd.concat([herm9, herm20, comp9, comp15])\n",
    "#df = pd.concat([herm9, herm20, comp15])\n",
    "#df = pd.concat([herm9, comp15])\n"
   ]
  },
  {
   "cell_type": "code",
   "execution_count": 15,
   "id": "smaller-gather",
   "metadata": {},
   "outputs": [],
   "source": [
    "X, y, err = dataslicercombined(df, ['pi+', 'pi-', 'pi0', 'k-', 'k+'], ['x', 'z', 'phT'])"
   ]
  },
  {
   "cell_type": "code",
   "execution_count": 128,
   "id": "north-fundamentals",
   "metadata": {},
   "outputs": [],
   "source": [
    "yhat = combined.siversAllCurveFitFactorized(X, *([1]*13))"
   ]
  },
  {
   "cell_type": "code",
   "execution_count": 110,
   "id": "hungry-inspiration",
   "metadata": {},
   "outputs": [
    {
     "name": "stderr",
     "output_type": "stream",
     "text": [
      "/home/nick/Documents/Sivers/functions.py:51: RuntimeWarning: invalid value encountered in double_scalars\n",
      "  return n * x**a * (1 - x)**b * (((a + b)**(a + b))/(a**a * b**b))\n",
      "/home/nick/.local/lib/python3.8/site-packages/scipy/optimize/minpack.py:828: OptimizeWarning: Covariance of the parameters could not be estimated\n",
      "  warnings.warn('Covariance of the parameters could not be estimated',\n"
     ]
    }
   ],
   "source": [
    "pars, cov = optimize.curve_fit(combined.siversAllCurveFitFactorized, X, y,\n",
    "                               sigma=err, p0=anselmino_pars, method='lm') #bounds=(-10, 10))"
   ]
  },
  {
   "cell_type": "code",
   "execution_count": 111,
   "id": "legal-engineering",
   "metadata": {},
   "outputs": [
    {
     "data": {
      "text/plain": [
       "array([inf, inf, inf, inf, inf, inf, inf, inf, inf, inf, inf, inf, inf])"
      ]
     },
     "execution_count": 111,
     "metadata": {},
     "output_type": "execute_result"
    }
   ],
   "source": [
    "np.diag(cov)"
   ]
  },
  {
   "cell_type": "code",
   "execution_count": 112,
   "id": "lucky-gilbert",
   "metadata": {},
   "outputs": [
    {
     "data": {
      "text/plain": [
       "array([ 2.21151092e+02, -5.20000000e-01,  0.00000000e+00, -1.00000000e-02,\n",
       "       -3.95553605e+02,  0.00000000e+00,  6.36252879e-01,  1.90000000e+00,\n",
       "        0.00000000e+00,  3.36272276e+00,  1.00000000e+01,  0.00000000e+00,\n",
       "        2.83284852e+03])"
      ]
     },
     "execution_count": 112,
     "metadata": {},
     "output_type": "execute_result"
    }
   ],
   "source": [
    "pars"
   ]
  },
  {
   "cell_type": "code",
   "execution_count": 114,
   "id": "general-trigger",
   "metadata": {},
   "outputs": [],
   "source": [
    "yhat = combined.siversAllCurveFitFactorized(X, *pars)"
   ]
  },
  {
   "cell_type": "code",
   "execution_count": 20,
   "id": "continuous-orleans",
   "metadata": {},
   "outputs": [],
   "source": [
    "anselmino_pars = [.18, -0.52, 0, -.01, -.06, 0, 1, 1.9, 0, 6.6, 10, 0, np.sqrt(.8)]"
   ]
  },
  {
   "cell_type": "code",
   "execution_count": 106,
   "id": "computational-character",
   "metadata": {},
   "outputs": [],
   "source": [
    "yhat = combined.siversAllCurveFitFactorized(X, .18, -0.52, 0, -.01, -.06, 0, 1, 1.9, 0, 6.6, 10, 0, np.sqrt(7))"
   ]
  },
  {
   "cell_type": "code",
   "execution_count": 80,
   "id": "persistent-stuart",
   "metadata": {},
   "outputs": [
    {
     "data": {
      "text/plain": [
       "array([ 0.0385,  0.0264,  0.0542,  0.0516,  0.0361,  0.0531,  0.0546,\n",
       "        0.0289,  0.0285,  0.0571,  0.047 ,  0.047 ,  0.0383,  0.04  ,\n",
       "        0.0571, -0.0117, -0.0136, -0.008 ,  0.0034, -0.0014, -0.0014,\n",
       "       -0.018 , -0.0317,  0.0042,  0.0074,  0.0095,  0.0119,  0.0171,\n",
       "        0.0262,  0.0332,  0.0246,  0.0363,  0.0308])"
      ]
     },
     "execution_count": 80,
     "metadata": {},
     "output_type": "execute_result"
    }
   ],
   "source": [
    "y"
   ]
  },
  {
   "cell_type": "code",
   "execution_count": 107,
   "id": "identical-claim",
   "metadata": {},
   "outputs": [
    {
     "data": {
      "text/plain": [
       "array([0.02108061, 0.02534307, 0.02802401, 0.03019374, 0.03107654,\n",
       "       0.0286717 , 0.02023952, 0.02094174, 0.02527787, 0.02783061,\n",
       "       0.02974244, 0.02974244, 0.03104281, 0.03054661, 0.02245579,\n",
       "       0.00242592, 0.00569059, 0.00957153, 0.01472609, 0.02197575,\n",
       "       0.03155169, 0.03974468, 0.04223415, 0.0298227 , 0.00247601,\n",
       "       0.00562953, 0.00993616, 0.01574585, 0.02332013, 0.03276843,\n",
       "       0.04146635, 0.0428224 , 0.02882049])"
      ]
     },
     "execution_count": 107,
     "metadata": {},
     "output_type": "execute_result"
    }
   ],
   "source": [
    "yhat"
   ]
  },
  {
   "cell_type": "markdown",
   "id": "threaded-pharmaceutical",
   "metadata": {},
   "source": [
    "## $\\chi^2/dof$"
   ]
  },
  {
   "cell_type": "code",
   "execution_count": 115,
   "id": "ecological-warner",
   "metadata": {},
   "outputs": [
    {
     "data": {
      "text/plain": [
       "3.8225706408804467"
      ]
     },
     "execution_count": 115,
     "metadata": {},
     "output_type": "execute_result"
    }
   ],
   "source": [
    "chisquare(y, yhat, err)/len(X)"
   ]
  },
  {
   "cell_type": "markdown",
   "id": "introductory-taiwan",
   "metadata": {},
   "source": [
    "## Plot"
   ]
  },
  {
   "cell_type": "code",
   "execution_count": 116,
   "id": "textile-journalist",
   "metadata": {},
   "outputs": [
    {
     "data": {
      "image/png": "[encoded data removed]",
      "text/plain": [
       "<Figure size 432x288 with 1 Axes>"
      ]
     },
     "metadata": {
      "needs_background": "light"
     },
     "output_type": "display_data"
    }
   ],
   "source": [
    "X, y, err = dataslicercombined(df, ['pi+'], ['x'])\n",
    "\n",
    "yhat = combined.siversAllCurveFitFactorized(X, *pars)\n",
    "\n",
    "plt.plot(X[:, 0], yhat, 'bo', label='yhat')\n",
    "plt.errorbar(X[:, 0], y, yerr=err, fmt='ro', label='y')\n",
    "#plt.ylim(0, .1)\n",
    "plt.legend()\n",
    "plt.ylabel('Sivers')\n",
    "plt.xlabel('x')\n",
    "plt.show()"
   ]
  },
  {
   "cell_type": "markdown",
   "id": "composite-residence",
   "metadata": {},
   "source": [
    "# Combined all Post-Alexei "
   ]
  },
  {
   "cell_type": "code",
   "execution_count": 191,
   "id": "narrative-calcium",
   "metadata": {},
   "outputs": [],
   "source": [
    "herm9 = pd.read_csv('HERMES_p_2009.csv').dropna(axis=0, how='all').dropna(axis=1, how='all')\n",
    "herm20 = pd.read_csv('HERMES_p_2020.csv').dropna(axis=0, how='all').dropna(axis=1, how='all')\n",
    "comp9 = pd.read_csv('COMPASS_d_2009.csv').dropna(axis=0, how='all').dropna(axis=1, how='all')\n",
    "comp15 = pd.read_csv('COMPASS_p_2015.csv').dropna(axis=0, how='all').dropna(axis=1, how='all')"
   ]
  },
  {
   "cell_type": "code",
   "execution_count": 192,
   "id": "random-workplace",
   "metadata": {},
   "outputs": [],
   "source": [
    "df = pd.concat([herm9, herm20, comp9, comp15])\n"
   ]
  },
  {
   "cell_type": "code",
   "execution_count": 193,
   "id": "appreciated-acquisition",
   "metadata": {},
   "outputs": [],
   "source": [
    "X, y, err = dataslicercombined(df, ['pi+', 'pi-', 'pi0', 'k-', 'k+'], ['x', 'z', 'phT'])"
   ]
  },
  {
   "cell_type": "code",
   "execution_count": 194,
   "id": "acceptable-tattoo",
   "metadata": {},
   "outputs": [],
   "source": [
    "anselmino_pars = [.18, -0.52, -.01, -.06, 1, 1.9, 6.6, 10, np.sqrt(.8)]"
   ]
  },
  {
   "cell_type": "code",
   "execution_count": 195,
   "id": "everyday-honor",
   "metadata": {},
   "outputs": [
    {
     "name": "stderr",
     "output_type": "stream",
     "text": [
      "/home/nick/Documents/Sivers/functions.py:51: RuntimeWarning: invalid value encountered in double_scalars\n",
      "  return n * x**a * (1 - x)**b * (((a + b)**(a + b))/(a**a * b**b))\n"
     ]
    }
   ],
   "source": [
    "pars, cov = optimize.curve_fit(combined.siversAllCurveFitFactorizeds0, X, y,\n",
    "                               sigma=err, p0=anselmino_pars, method='lm') #bounds=(-10, 10))"
   ]
  },
  {
   "cell_type": "code",
   "execution_count": 196,
   "id": "enclosed-diana",
   "metadata": {},
   "outputs": [
    {
     "data": {
      "text/plain": [
       "array([1.09777396e+13, 6.23108290e+13, 2.22309142e+12, 9.44586778e+14,\n",
       "       1.24693687e+00, 5.18258782e-01, 4.79071129e+01, 3.96746334e+01,\n",
       "       8.77772147e+15])"
      ]
     },
     "execution_count": 196,
     "metadata": {},
     "output_type": "execute_result"
    }
   ],
   "source": [
    "np.diag(cov)"
   ]
  },
  {
   "cell_type": "code",
   "execution_count": 197,
   "id": "radical-bundle",
   "metadata": {},
   "outputs": [
    {
     "data": {
      "text/plain": [
       "array([5.17316956e+01, 1.23249125e+02, 2.32798763e+01, 4.79869358e+02,\n",
       "       1.15936014e+00, 1.63573154e+00, 1.77498376e+00, 1.50821932e+01,\n",
       "       1.46282622e+03])"
      ]
     },
     "execution_count": 197,
     "metadata": {},
     "output_type": "execute_result"
    }
   ],
   "source": [
    "pars"
   ]
  },
  {
   "cell_type": "code",
   "execution_count": 198,
   "id": "biological-murder",
   "metadata": {},
   "outputs": [],
   "source": [
    "yhat = combined.siversAllCurveFitFactorizeds0(X, *pars)"
   ]
  },
  {
   "cell_type": "markdown",
   "id": "front-joseph",
   "metadata": {},
   "source": [
    "## $\\chi^2/dof$"
   ]
  },
  {
   "cell_type": "code",
   "execution_count": 199,
   "id": "different-alliance",
   "metadata": {},
   "outputs": [
    {
     "data": {
      "text/plain": [
       "3.6537550699287706"
      ]
     },
     "execution_count": 199,
     "metadata": {},
     "output_type": "execute_result"
    }
   ],
   "source": [
    "chisquare(y, yhat, err)/len(X)"
   ]
  },
  {
   "cell_type": "markdown",
   "id": "latter-differential",
   "metadata": {},
   "source": [
    "## Uncertainty"
   ]
  },
  {
   "cell_type": "code",
   "execution_count": 207,
   "id": "naked-provincial",
   "metadata": {},
   "outputs": [
    {
     "name": "stderr",
     "output_type": "stream",
     "text": [
      "<ipython-input-189-33097c3f249b>:4: RuntimeWarning: covariance is not positive-semidefinite.\n",
      "  temp_pars = np.random.multivariate_normal(pars, cov)\n"
     ]
    }
   ],
   "source": [
    "X, y, err = dataslicercombined(df, ['pi+'], ['x'])\n",
    "\n",
    "u = uncertainty(pars, cov, X, combined.siversAllCurveFitFactorizeds0)"
   ]
  },
  {
   "cell_type": "code",
   "execution_count": 208,
   "id": "revised-channels",
   "metadata": {},
   "outputs": [
    {
     "data": {
      "text/plain": [
       "array([0.03089656, 0.02378408, 0.02105636, 0.02036223, 0.02082415,\n",
       "       0.02338826, 0.03463478, 0.03071026, 0.02372647, 0.02124247,\n",
       "       0.02037412, 0.02037412, 0.02048169, 0.02184972, 0.03067989,\n",
       "       0.05740852, 0.04807871, 0.03986161, 0.03315165, 0.02892827,\n",
       "       0.02665806, 0.02606128, 0.02991105, 0.05171732, 0.05790786,\n",
       "       0.04764228, 0.04144478, 0.03512381, 0.03050125, 0.02761049,\n",
       "       0.02714708, 0.03051656, 0.05642974])"
      ]
     },
     "execution_count": 208,
     "metadata": {},
     "output_type": "execute_result"
    }
   ],
   "source": [
    "u.mean(axis=0)"
   ]
  },
  {
   "cell_type": "code",
   "execution_count": 209,
   "id": "tribal-disability",
   "metadata": {
    "scrolled": true
   },
   "outputs": [
    {
     "data": {
      "image/png": "[encoded data removed]",
      "text/plain": [
       "<Figure size 432x288 with 1 Axes>"
      ]
     },
     "metadata": {
      "needs_background": "light"
     },
     "output_type": "display_data"
    }
   ],
   "source": [
    "plt.errorbar(X[:, 0], u.mean(axis=0), yerr=u.std(axis=0), fmt='bo', label='yhat')\n",
    "plt.errorbar(X[:, 0], y, yerr=err, fmt='ro', label='y')\n",
    "#plt.ylim(0, .1)\n",
    "plt.legend()\n",
    "plt.ylabel('Sivers')\n",
    "plt.xlabel('x')\n",
    "plt.show()"
   ]
  },
  {
   "cell_type": "markdown",
   "id": "seeing-classification",
   "metadata": {},
   "source": [
    "## Plot"
   ]
  },
  {
   "cell_type": "code",
   "execution_count": 188,
   "id": "incorporate-length",
   "metadata": {},
   "outputs": [
    {
     "data": {
      "image/png": "[encoded data removed]",
      "text/plain": [
       "<Figure size 432x288 with 1 Axes>"
      ]
     },
     "metadata": {
      "needs_background": "light"
     },
     "output_type": "display_data"
    }
   ],
   "source": [
    "X, y, err = dataslicercombined(df, ['pi+'], ['x'])\n",
    "\n",
    "yhat = combined.siversAllCurveFitFactorizeds0(X, *pars)\n",
    "\n",
    "plt.plot(X[:, 0], yhat, 'bo', label='yhat')\n",
    "plt.errorbar(X[:, 0], y, yerr=err, fmt='ro', label='y')\n",
    "#plt.ylim(0, .1)\n",
    "plt.legend()\n",
    "plt.ylabel('Sivers')\n",
    "plt.xlabel('x')\n",
    "plt.show()"
   ]
  },
  {
   "cell_type": "markdown",
   "id": "caring-costume",
   "metadata": {},
   "source": [
    "# Check $\\chi^2$"
   ]
  },
  {
   "cell_type": "code",
   "execution_count": 448,
   "id": "natural-people",
   "metadata": {},
   "outputs": [],
   "source": [
    "herm['hadron'] = pd.factorize(herm['hadron'])[0]"
   ]
  },
  {
   "cell_type": "code",
   "execution_count": 89,
   "id": "educated-elizabeth",
   "metadata": {},
   "outputs": [],
   "source": [
    "kinsandflag = np.array(herm[['x', 'z', 'phT', 'Q2', 'hadron']])"
   ]
  },
  {
   "cell_type": "code",
   "execution_count": 145,
   "id": "special-rabbit",
   "metadata": {},
   "outputs": [],
   "source": [
    "experiment='HERMES_p_2009.csv'\n",
    "hadron = ['pi+', 'pi-', 'pi0']\n",
    "dependence = ['x', 'z']\n",
    "df = pd.read_csv(experiment)\n",
    "subdf = df.loc[df['hadron'].isin(hadron) & df['1D_dependence'].isin(dependence), :]\n",
    "kinsandflag = np.array(subdf[['x', 'z', 'phT', 'Q2', 'hadron']])"
   ]
  },
  {
   "cell_type": "code",
   "execution_count": 93,
   "id": "relevant-establishment",
   "metadata": {},
   "outputs": [],
   "source": [
    "params = {'Nu': .5,\n",
    "          'Nd': .5,\n",
    "          'Nubar':.5,\n",
    "          'Ndbar':.5,\n",
    "          'au':.5,\n",
    "          'ad':.5,\n",
    "          'bu':.5,\n",
    "          'bd':.5,\n",
    "          'm1':.5}"
   ]
  },
  {
   "cell_type": "code",
   "execution_count": 110,
   "id": "capital-anaheim",
   "metadata": {},
   "outputs": [],
   "source": [
    "h = functions.Hadron(kperp2avg=1, pperp2avg=1)"
   ]
  },
  {
   "cell_type": "code",
   "execution_count": 111,
   "id": "intermediate-blowing",
   "metadata": {
    "scrolled": true
   },
   "outputs": [
    {
     "data": {
      "text/plain": [
       "0.3712657595389501"
      ]
     },
     "execution_count": 111,
     "metadata": {},
     "output_type": "execute_result"
    }
   ],
   "source": [
    "h.A0(1, 1, 1)"
   ]
  },
  {
   "cell_type": "code",
   "execution_count": 94,
   "id": "enormous-mitchell",
   "metadata": {},
   "outputs": [],
   "source": [
    "allfuncs = functions.CombinedHadrons()"
   ]
  },
  {
   "cell_type": "code",
   "execution_count": 95,
   "id": "built-equality",
   "metadata": {},
   "outputs": [
    {
     "data": {
      "text/plain": [
       "array([0.00831322, 0.0143827 , 0.02287637, 0.03522957, 0.05148882,\n",
       "       0.06712842, 0.08050943, 0.01866904, 0.01765047, 0.01789845,\n",
       "       0.01920098, 0.02078807, 0.02307115, 0.02641482, 0.00429151,\n",
       "       0.00896903, 0.01324498, 0.01811002, 0.02865426, 0.06654935,\n",
       "       0.35437078, 0.01112994, 0.0189577 , 0.02989056, 0.04446454,\n",
       "       0.06203338, 0.07736624, 0.08749043, 0.03159073, 0.02559996,\n",
       "       0.02334586, 0.02291189, 0.02294177, 0.02347603, 0.02652854,\n",
       "       0.00514357, 0.01083381, 0.01621675, 0.02237195, 0.03563768,\n",
       "       0.08182555, 0.4310743 ])"
      ]
     },
     "execution_count": 95,
     "metadata": {},
     "output_type": "execute_result"
    }
   ],
   "source": [
    "allfuncs.siversAll(kinsandflag, params)"
   ]
  },
  {
   "cell_type": "code",
   "execution_count": 83,
   "id": "encouraging-margin",
   "metadata": {
    "collapsed": true
   },
   "outputs": [
    {
     "name": "stdout",
     "output_type": "stream",
     "text": [
      "> \u001b[0;32m/home/nick/Documents/Sivers/functions.py\u001b[0m(47)\u001b[0;36mA0\u001b[0;34m()\u001b[0m\n",
      "\u001b[0;32m     45 \u001b[0;31m        \u001b[0mlast\u001b[0m \u001b[0;34m=\u001b[0m \u001b[0mnp\u001b[0m\u001b[0;34m.\u001b[0m\u001b[0msqrt\u001b[0m\u001b[0;34m(\u001b[0m\u001b[0;36m2\u001b[0m\u001b[0;34m*\u001b[0m\u001b[0mself\u001b[0m\u001b[0;34m.\u001b[0m\u001b[0me\u001b[0m\u001b[0;34m)\u001b[0m \u001b[0;34m*\u001b[0m \u001b[0mz\u001b[0m \u001b[0;34m*\u001b[0m \u001b[0mpht\u001b[0m \u001b[0;34m/\u001b[0m \u001b[0mm1\u001b[0m \u001b[0;31m#correct\u001b[0m\u001b[0;34m\u001b[0m\u001b[0;34m\u001b[0m\u001b[0m\n",
      "\u001b[0m\u001b[0;32m     46 \u001b[0;31m\u001b[0;34m\u001b[0m\u001b[0m\n",
      "\u001b[0m\u001b[0;32m---> 47 \u001b[0;31m        \u001b[0;32mreturn\u001b[0m \u001b[0;34m(\u001b[0m\u001b[0mtopfirst\u001b[0m\u001b[0;34m/\u001b[0m\u001b[0mbottomfirst\u001b[0m\u001b[0;34m)\u001b[0m \u001b[0;34m*\u001b[0m \u001b[0mnp\u001b[0m\u001b[0;34m.\u001b[0m\u001b[0mexp\u001b[0m\u001b[0;34m(\u001b[0m\u001b[0;34m-\u001b[0m\u001b[0mexptop\u001b[0m\u001b[0;34m/\u001b[0m\u001b[0mexpbottom\u001b[0m\u001b[0;34m)\u001b[0m \u001b[0;34m*\u001b[0m \u001b[0mlast\u001b[0m\u001b[0;34m\u001b[0m\u001b[0;34m\u001b[0m\u001b[0m\n",
      "\u001b[0m\u001b[0;32m     48 \u001b[0;31m\u001b[0;34m\u001b[0m\u001b[0m\n",
      "\u001b[0m\u001b[0;32m     49 \u001b[0;31m\u001b[0;34m\u001b[0m\u001b[0m\n",
      "\u001b[0m\n",
      "ipdb> topfirst\n",
      "array([0.004566518061049969, 0.00520434117870687, 0.006018898432573617,\n",
      "       0.0070634321215980065, 0.008332433828171474, 0.009677176276862728,\n",
      "       0.011190614014816327, 0.0055673286853063645, 0.005805567746876858,\n",
      "       0.005942469138254758, 0.006057577852468767, 0.006096567120854401,\n",
      "       0.006096567120854401, 0.006044650284893663, 0.005625597415321981,\n",
      "       0.00573265006878346, 0.005793328731502825, 0.005793328731502825,\n",
      "       0.005854868084473526, 0.006215394016954193, 0.007156386668742562],\n",
      "      dtype=object)\n",
      "ipdb> exptop\n",
      "array([-0.002597285980817561, -0.005170158012425487,\n",
      "       -0.008952897551401098, -0.0145701992074489, -0.022240043928132804,\n",
      "       -0.030126671466612808, -0.0376590032956372, -0.01069626445702244,\n",
      "       -0.008400061600876094, -0.007385057264563902, -0.00709923487356878,\n",
      "       -0.006734900191539511, -0.0065405410434010965,\n",
      "       -0.006593488902439023, -0.0005574808932804878,\n",
      "       -0.00216091089054878, -0.004199412734451219, -0.006835904914939022,\n",
      "       -0.012228706016780486, -0.02669632899083122, -0.07399953869497022],\n",
      "      dtype=object)\n",
      "ipdb> expbottom\n",
      "array([0.01958416159733122, 0.023429212053377106, 0.028735165511725884,\n",
      "       0.03618831520142588, 0.046224563108213684, 0.05803479072756246,\n",
      "       0.07277261468589906, 0.02573888565747512, 0.0273026724761678,\n",
      "       0.028218453109650272, 0.028998152250567802, 0.02926425800141369,\n",
      "       0.02926425800141369, 0.028910144638433687, 0.026117852514399055,\n",
      "       0.02682001543445121, 0.027221411668616614, 0.027221411668616614,\n",
      "       0.027631015726829265, 0.030081532596831217, 0.03688692760395027],\n",
      "      dtype=object)\n",
      "ipdb> -exptop/expbottom\n",
      "array([0.13262176008451132, 0.22067144215719608, 0.3115658946786895,\n",
      "       0.402621650838136, 0.4811304300717328, 0.5191139847137374,\n",
      "       0.5174886660068609, 0.41556828059166645, 0.3076644459698374,\n",
      "       0.26171020912688964, 0.2448168011611765, 0.23014081516142193,\n",
      "       0.22349929538911043, 0.22806834711139823, 0.021344821247196437,\n",
      "       0.08057082949225366, 0.15426873468478838, 0.251122351704489,\n",
      "       0.4425717149770434, 0.8874657202021484, 2.006118251145577],\n",
      "      dtype=object)\n",
      "ipdb> np.exp(-exptop/expbottom)\n",
      "*** TypeError: loop of ufunc does not support argument 0 of type float which has no callable exp method\n",
      "ipdb> (-exptop/expbottom).astype('float')\n",
      "array([0.13262176, 0.22067144, 0.31156589, 0.40262165, 0.48113043,\n",
      "       0.51911398, 0.51748867, 0.41556828, 0.30766445, 0.26171021,\n",
      "       0.2448168 , 0.23014082, 0.2234993 , 0.22806835, 0.02134482,\n",
      "       0.08057083, 0.15426873, 0.25112235, 0.44257171, 0.88746572,\n",
      "       2.00611825])\n",
      "ipdb> np.exp((-exptop/expbottom).astype('float'))\n",
      "array([1.14181804, 1.24691368, 1.36556177, 1.49574087, 1.61790229,\n",
      "       1.68053801, 1.67780882, 1.51523157, 1.36024448, 1.29915001,\n",
      "       1.27738728, 1.25877725, 1.25044476, 1.25617118, 1.02157425,\n",
      "       1.08390562, 1.16680441, 1.28546735, 1.55670548, 2.42896616,\n",
      "       7.43440278])\n",
      "--KeyboardInterrupt--\n",
      "--KeyboardInterrupt--\n",
      "ipdb> exit\n"
     ]
    }
   ],
   "source": [
    "%debug"
   ]
  },
  {
   "cell_type": "code",
   "execution_count": 74,
   "id": "strategic-hollywood",
   "metadata": {
    "scrolled": true
   },
   "outputs": [
    {
     "data": {
      "text/plain": [
       "2.718281828459045"
      ]
     },
     "execution_count": 74,
     "metadata": {},
     "output_type": "execute_result"
    }
   ],
   "source": [
    "np.exp(1)"
   ]
  },
  {
   "cell_type": "code",
   "execution_count": 47,
   "id": "placed-showcase",
   "metadata": {},
   "outputs": [],
   "source": [
    "def chi2forset(experiment, hadron, dependence, listofparams):\n",
    "    df = pd.read_csv(experiment)\n",
    "    subdf = df.loc[df['hadron'].isin(hadron) & df['1D_dependence'].isin(dependence), :]\n",
    "    kinsandflag = np.array(subdf[['x', 'z', 'phT', 'Q2']])\n",
    "    print(kinsandflag.shape)\n",
    "    if hadron == 'pi+':\n",
    "        func = functions.PiPlus('HERMES_p_2009.csv')\n",
    "        yhat = func.sivers(kinsandflag, *listofparams)\n",
    "    return chisquare(subdf['Siv'], yhat, subdf['tot_err'])"
   ]
  },
  {
   "cell_type": "code",
   "execution_count": 44,
   "id": "breeding-typing",
   "metadata": {},
   "outputs": [],
   "source": [
    "testa0 = functions.Hadron(kperp2avg=1, pperp2avg=1)"
   ]
  },
  {
   "cell_type": "code",
   "execution_count": 45,
   "id": "legendary-radical",
   "metadata": {},
   "outputs": [
    {
     "data": {
      "text/plain": [
       "0.04757906170651974"
      ]
     },
     "execution_count": 45,
     "metadata": {},
     "output_type": "execute_result"
    }
   ],
   "source": [
    "testa0.A0(1, 1, 1)"
   ]
  },
  {
   "cell_type": "code",
   "execution_count": 48,
   "id": "derived-density",
   "metadata": {
    "scrolled": true
   },
   "outputs": [
    {
     "name": "stdout",
     "output_type": "stream",
     "text": [
      "(7, 4)\n"
     ]
    },
    {
     "data": {
      "text/plain": [
       "151.9885684127162"
      ]
     },
     "execution_count": 48,
     "metadata": {},
     "output_type": "execute_result"
    }
   ],
   "source": [
    "chi2forset('HERMES_p_2009.csv', 'pi+', 'x', [1, 1, 1, 1, 1])"
   ]
  },
  {
   "cell_type": "code",
   "execution_count": null,
   "id": "departmental-browser",
   "metadata": {},
   "outputs": [],
   "source": [
    "chisquare(herm.loc[herm['hadron'] < 3, 'Siv'], yhat, herm.loc[herm['hadron'] < 3, 'tot_err'])"
   ]
  }
 ],
 "metadata": {
  "kernelspec": {
   "display_name": "Python 3",
   "language": "python",
   "name": "python3"
  },
  "language_info": {
   "codemirror_mode": {
    "name": "ipython",
    "version": 3
   },
   "file_extension": ".py",
   "mimetype": "text/x-python",
   "name": "python",
   "nbconvert_exporter": "python",
   "pygments_lexer": "ipython3",
   "version": "3.8.5"
  }
 },
 "nbformat": 4,
 "nbformat_minor": 5
}
