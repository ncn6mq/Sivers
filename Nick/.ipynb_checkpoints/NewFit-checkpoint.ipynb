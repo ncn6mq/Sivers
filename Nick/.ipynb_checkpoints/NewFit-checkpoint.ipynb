{
 "cells": [
  {
   "cell_type": "code",
   "execution_count": 1,
   "id": "quality-simon",
   "metadata": {},
   "outputs": [],
   "source": [
    "%load_ext autoreload\n",
    "%autoreload 2"
   ]
  },
  {
   "cell_type": "code",
   "execution_count": 2,
   "id": "analyzed-front",
   "metadata": {},
   "outputs": [],
   "source": [
    "import NewFunctions\n",
    "import numpy as np\n",
    "import pandas as pd\n",
    "\n",
    "from scipy import optimize"
   ]
  },
  {
   "cell_type": "code",
   "execution_count": 3,
   "id": "rotary-embassy",
   "metadata": {},
   "outputs": [],
   "source": [
    "import matplotlib.pyplot as plt"
   ]
  },
  {
   "cell_type": "code",
   "execution_count": 4,
   "id": "incident-writer",
   "metadata": {},
   "outputs": [],
   "source": [
    "def chisquare(y, yhat, err):\n",
    "    return np.sum(((y - yhat)/err)**2)"
   ]
  },
  {
   "cell_type": "code",
   "execution_count": 5,
   "id": "numerical-dayton",
   "metadata": {},
   "outputs": [],
   "source": [
    "def dataslicercombined(df, hadrons, dependencies):\n",
    "    '''\n",
    "    returns X, y, err\n",
    "    '''\n",
    "    df = df.loc[df['hadron'].isin(hadrons), :]\n",
    "    df = df.loc[df['1D_dependence'].isin(dependencies), :]\n",
    "    X = np.array(df[['x', 'z', 'phT', 'Q2', 'hadron']])\n",
    "    for i, had in enumerate(['pi+', 'pi-', 'pi0', 'k+', 'k-']):\n",
    "        X[X[:, 4] == had, 4] = i\n",
    "    X = X.astype('float')\n",
    "    return X, np.array(df['Siv']), np.array(df['tot_err'])"
   ]
  },
  {
   "cell_type": "code",
   "execution_count": 26,
   "id": "compact-blink",
   "metadata": {},
   "outputs": [],
   "source": [
    "herm9 = pd.read_csv('HERMES_p_2009.csv').dropna(axis=0, how='all').dropna(axis=1, how='all')\n",
    "herm20 = pd.read_csv('HERMES_p_2020.csv').dropna(axis=0, how='all').dropna(axis=1, how='all')\n",
    "comp9 = pd.read_csv('COMPASS_d_2009.csv').dropna(axis=0, how='all').dropna(axis=1, how='all')\n",
    "comp15 = pd.read_csv('COMPASS_p_2015.csv').dropna(axis=0, how='all').dropna(axis=1, how='all')"
   ]
  },
  {
   "cell_type": "code",
   "execution_count": 11,
   "id": "welcome-attitude",
   "metadata": {},
   "outputs": [],
   "source": [
    "anselmino_pars = [.18, -0.52, 0, -.01, -.06, 0, 1, 1.9, 0, 6.6, 10, 0, np.sqrt(.8)]"
   ]
  },
  {
   "cell_type": "markdown",
   "id": "conscious-surge",
   "metadata": {},
   "source": [
    "# Test"
   ]
  },
  {
   "cell_type": "code",
   "execution_count": 20,
   "id": "sized-opposition",
   "metadata": {},
   "outputs": [],
   "source": [
    "had = NewFunctions.Hadron()"
   ]
  },
  {
   "cell_type": "code",
   "execution_count": 21,
   "id": "pressing-grill",
   "metadata": {},
   "outputs": [],
   "source": [
    "df = pd.read_csv('HERMES_p_2009.csv')"
   ]
  },
  {
   "cell_type": "code",
   "execution_count": 26,
   "id": "logical-booth",
   "metadata": {},
   "outputs": [],
   "source": [
    "X, y, err = dataslicercombined(df, ['pi+'], ['x'])"
   ]
  },
  {
   "cell_type": "code",
   "execution_count": 23,
   "id": "silver-extra",
   "metadata": {},
   "outputs": [
    {
     "data": {
      "text/plain": [
       "[2.039538163008689e-11]"
      ]
     },
     "execution_count": 23,
     "metadata": {},
     "output_type": "execute_result"
    }
   ],
   "source": [
    "list(had.sivers(np.array([[.01, .01, .01, .01, 4]]), *([.01]*13)))"
   ]
  },
  {
   "cell_type": "code",
   "execution_count": 27,
   "id": "adult-pearl",
   "metadata": {},
   "outputs": [
    {
     "data": {
      "text/plain": [
       "[0.1403090911083922,\n",
       " 0.1266911094832964,\n",
       " 0.12814184414431323,\n",
       " 0.13923587274977864,\n",
       " 0.16057934795945958,\n",
       " 0.19674397301945143,\n",
       " 0.25586289086351593]"
      ]
     },
     "execution_count": 27,
     "metadata": {},
     "output_type": "execute_result"
    }
   ],
   "source": [
    "list(had.sivers(X, *([1]*13)))"
   ]
  },
  {
   "cell_type": "code",
   "execution_count": 33,
   "id": "surrounded-degree",
   "metadata": {},
   "outputs": [
    {
     "data": {
      "text/plain": [
       "array([23.175973, 23.175973])"
      ]
     },
     "execution_count": 33,
     "metadata": {},
     "output_type": "execute_result"
    }
   ],
   "source": [
    "had.A0(np.array([1., 1.]), np.array([2., 2.]), 1)"
   ]
  },
  {
   "cell_type": "markdown",
   "id": "necessary-monte",
   "metadata": {},
   "source": [
    "# Combined all except 2020"
   ]
  },
  {
   "cell_type": "code",
   "execution_count": 25,
   "id": "occasional-montana",
   "metadata": {},
   "outputs": [],
   "source": [
    "had = NewFunctions.Hadron()"
   ]
  },
  {
   "cell_type": "code",
   "execution_count": 27,
   "id": "through-induction",
   "metadata": {},
   "outputs": [],
   "source": [
    "df = pd.concat([herm9, comp9, comp15])"
   ]
  },
  {
   "cell_type": "code",
   "execution_count": 28,
   "id": "framed-exclusion",
   "metadata": {},
   "outputs": [],
   "source": [
    "X, y, err = dataslicercombined(df, ['pi+', 'pi-', 'pi0', 'k-', 'k+'], ['x', 'z', 'phT'])"
   ]
  },
  {
   "cell_type": "code",
   "execution_count": 29,
   "id": "devoted-transparency",
   "metadata": {},
   "outputs": [
    {
     "name": "stderr",
     "output_type": "stream",
     "text": [
      "/home/nick/Documents/Sivers/NewFunctions.py:55: RuntimeWarning: invalid value encountered in double_scalars\n",
      "  return n * x**a * (1 - x)**b * (((a + b)**(a + b))/(a**a * b**b))\n"
     ]
    }
   ],
   "source": [
    "pars, cov = optimize.curve_fit(had.sivers, X, y,\n",
    "                               sigma=err, p0=anselmino_pars, method='lm')"
   ]
  },
  {
   "cell_type": "code",
   "execution_count": 30,
   "id": "secret-montreal",
   "metadata": {},
   "outputs": [
    {
     "data": {
      "text/plain": [
       "array([9.12138922e-05, 1.62451663e-02, 4.83933197e-02, 1.87498733e-04,\n",
       "       8.59406366e-03, 7.25263326e-02, 4.07302884e+00, 2.05452255e+00,\n",
       "       6.88976661e-02, 1.35364365e+02, 1.05681729e+02, 3.02432106e+02,\n",
       "       2.65515649e-02])"
      ]
     },
     "execution_count": 30,
     "metadata": {},
     "output_type": "execute_result"
    }
   ],
   "source": [
    "np.diag(cov)"
   ]
  },
  {
   "cell_type": "code",
   "execution_count": 31,
   "id": "sweet-detroit",
   "metadata": {},
   "outputs": [
    {
     "data": {
      "text/plain": [
       "array([ 1.82870170e-02, -1.68806374e-01,  5.84699410e-02, -5.30406488e-03,\n",
       "        1.59579057e-02, -1.36392044e-01,  9.58182771e-01,  1.77560819e+00,\n",
       "        2.63656457e-08,  4.88859964e+00,  5.91690350e+00,  3.02144329e+00,\n",
       "        9.24782351e-01])"
      ]
     },
     "execution_count": 31,
     "metadata": {},
     "output_type": "execute_result"
    }
   ],
   "source": [
    "pars"
   ]
  },
  {
   "cell_type": "code",
   "execution_count": 32,
   "id": "nuclear-arkansas",
   "metadata": {},
   "outputs": [],
   "source": [
    "yhat = had.sivers(X, *pars)"
   ]
  },
  {
   "cell_type": "markdown",
   "id": "minimal-cooking",
   "metadata": {},
   "source": [
    "## $\\chi^2/dof$"
   ]
  },
  {
   "cell_type": "code",
   "execution_count": 19,
   "id": "intermediate-penny",
   "metadata": {},
   "outputs": [
    {
     "data": {
      "text/plain": [
       "5.125658387264672"
      ]
     },
     "execution_count": 19,
     "metadata": {},
     "output_type": "execute_result"
    }
   ],
   "source": [
    "chisquare(y, yhat, err)/len(X)"
   ]
  },
  {
   "cell_type": "markdown",
   "id": "diverse-right",
   "metadata": {},
   "source": [
    "## Plot"
   ]
  },
  {
   "cell_type": "code",
   "execution_count": 24,
   "id": "measured-consortium",
   "metadata": {},
   "outputs": [
    {
     "data": {
      "image/png": "[encoded data removed]",
      "text/plain": [
       "<Figure size 432x288 with 1 Axes>"
      ]
     },
     "metadata": {
      "needs_background": "light"
     },
     "output_type": "display_data"
    }
   ],
   "source": [
    "Xplt, yplt, errplt = dataslicercombined(df, ['pi+'], ['z'])\n",
    "\n",
    "yhatplt = had.sivers(Xplt, *pars)\n",
    "\n",
    "plt.plot(Xplt[:, 0], yhatplt, 'bo', label='yhat')\n",
    "plt.errorbar(Xplt[:, 0], yplt, yerr=errplt, fmt='ro', label='y')\n",
    "#plt.ylim(0, .1)\n",
    "plt.legend()\n",
    "plt.ylabel('Sivers')\n",
    "plt.xlabel('x')\n",
    "plt.show()"
   ]
  },
  {
   "cell_type": "markdown",
   "id": "communist-lawrence",
   "metadata": {},
   "source": [
    "# Combined all"
   ]
  },
  {
   "cell_type": "code",
   "execution_count": 64,
   "id": "initial-group",
   "metadata": {},
   "outputs": [],
   "source": [
    "df = pd.concat([herm9, comp9, comp15, herm20])"
   ]
  },
  {
   "cell_type": "code",
   "execution_count": 65,
   "id": "tired-affairs",
   "metadata": {},
   "outputs": [],
   "source": [
    "X, y, err = dataslicercombined(df, ['pi+', 'pi-', 'pi0', 'k-', 'k+'], ['x', 'z', 'phT'])"
   ]
  },
  {
   "cell_type": "code",
   "execution_count": 66,
   "id": "changing-south",
   "metadata": {},
   "outputs": [],
   "source": [
    "pars, cov = optimize.curve_fit(had.sivers, X, y,\n",
    "                               sigma=err, p0=anselmino_pars, method='trf')"
   ]
  },
  {
   "cell_type": "code",
   "execution_count": 67,
   "id": "popular-elephant",
   "metadata": {},
   "outputs": [
    {
     "data": {
      "text/plain": [
       "array([ 6.40301381e+01, -4.69125563e+02, -1.71523008e+01,  1.12051199e+02,\n",
       "        4.05637911e-01,  4.78342720e+01,  1.95961691e+00,  5.52756344e+01,\n",
       "        1.91902346e+03])"
      ]
     },
     "execution_count": 67,
     "metadata": {},
     "output_type": "execute_result"
    }
   ],
   "source": [
    "pars"
   ]
  },
  {
   "cell_type": "code",
   "execution_count": 68,
   "id": "balanced-scout",
   "metadata": {},
   "outputs": [],
   "source": [
    "yhat = had.sivers(X, *pars)"
   ]
  },
  {
   "cell_type": "markdown",
   "id": "suffering-evidence",
   "metadata": {},
   "source": [
    "## $\\chi^2/dof$"
   ]
  },
  {
   "cell_type": "code",
   "execution_count": 132,
   "id": "thrown-representative",
   "metadata": {},
   "outputs": [
    {
     "data": {
      "text/plain": [
       "3.8031319910514543"
      ]
     },
     "execution_count": 132,
     "metadata": {},
     "output_type": "execute_result"
    }
   ],
   "source": [
    "1700/447"
   ]
  },
  {
   "cell_type": "code",
   "execution_count": 131,
   "id": "elegant-filing",
   "metadata": {},
   "outputs": [
    {
     "data": {
      "text/plain": [
       "447"
      ]
     },
     "execution_count": 131,
     "metadata": {},
     "output_type": "execute_result"
    }
   ],
   "source": [
    "len(X)"
   ]
  },
  {
   "cell_type": "code",
   "execution_count": 130,
   "id": "korean-integrity",
   "metadata": {},
   "outputs": [
    {
     "ename": "ValueError",
     "evalue": "operands could not be broadcast together with shapes (447,) (25,) ",
     "output_type": "error",
     "traceback": [
      "\u001b[0;31m---------------------------------------------------------------------------\u001b[0m",
      "\u001b[0;31mValueError\u001b[0m                                Traceback (most recent call last)",
      "\u001b[0;32m<ipython-input-130-95282e37ffdc>\u001b[0m in \u001b[0;36m<module>\u001b[0;34m\u001b[0m\n\u001b[0;32m----> 1\u001b[0;31m \u001b[0mchisquare\u001b[0m\u001b[0;34m(\u001b[0m\u001b[0my\u001b[0m\u001b[0;34m,\u001b[0m \u001b[0myhat\u001b[0m\u001b[0;34m,\u001b[0m \u001b[0merr\u001b[0m\u001b[0;34m)\u001b[0m\u001b[0;34m/\u001b[0m\u001b[0mlen\u001b[0m\u001b[0;34m(\u001b[0m\u001b[0mX\u001b[0m\u001b[0;34m)\u001b[0m\u001b[0;34m\u001b[0m\u001b[0;34m\u001b[0m\u001b[0m\n\u001b[0m",
      "\u001b[0;32m<ipython-input-42-5c11a0bfd218>\u001b[0m in \u001b[0;36mchisquare\u001b[0;34m(y, yhat, err)\u001b[0m\n\u001b[1;32m      1\u001b[0m \u001b[0;32mdef\u001b[0m \u001b[0mchisquare\u001b[0m\u001b[0;34m(\u001b[0m\u001b[0my\u001b[0m\u001b[0;34m,\u001b[0m \u001b[0myhat\u001b[0m\u001b[0;34m,\u001b[0m \u001b[0merr\u001b[0m\u001b[0;34m)\u001b[0m\u001b[0;34m:\u001b[0m\u001b[0;34m\u001b[0m\u001b[0;34m\u001b[0m\u001b[0m\n\u001b[0;32m----> 2\u001b[0;31m     \u001b[0;32mreturn\u001b[0m \u001b[0mnp\u001b[0m\u001b[0;34m.\u001b[0m\u001b[0msum\u001b[0m\u001b[0;34m(\u001b[0m\u001b[0;34m(\u001b[0m\u001b[0;34m(\u001b[0m\u001b[0my\u001b[0m \u001b[0;34m-\u001b[0m \u001b[0myhat\u001b[0m\u001b[0;34m)\u001b[0m\u001b[0;34m/\u001b[0m\u001b[0merr\u001b[0m\u001b[0;34m)\u001b[0m\u001b[0;34m**\u001b[0m\u001b[0;36m2\u001b[0m\u001b[0;34m)\u001b[0m\u001b[0;34m\u001b[0m\u001b[0;34m\u001b[0m\u001b[0m\n\u001b[0m",
      "\u001b[0;31mValueError\u001b[0m: operands could not be broadcast together with shapes (447,) (25,) "
     ]
    }
   ],
   "source": [
    "chisquare(y, yhat, err)/len(X)"
   ]
  },
  {
   "cell_type": "code",
   "execution_count": 74,
   "id": "postal-disposal",
   "metadata": {},
   "outputs": [
    {
     "data": {
      "image/png": "[encoded data removed]",
      "text/plain": [
       "<Figure size 432x288 with 1 Axes>"
      ]
     },
     "metadata": {
      "needs_background": "light"
     },
     "output_type": "display_data"
    }
   ],
   "source": [
    "X, y, err = dataslicercombined(df, ['pi+'], ['x'])\n",
    "\n",
    "yhat = had.sivers(X, *pars)\n",
    "\n",
    "plt.plot(X[:, 0], yhat, label='yhat')\n",
    "plt.errorbar(X[:, 0], y, yerr=err, fmt='ro', label='y')\n",
    "plt.legend()\n",
    "plt.ylabel('Sivers')\n",
    "plt.xlabel('x')\n",
    "plt.show()"
   ]
  },
  {
   "cell_type": "markdown",
   "id": "executive-analyst",
   "metadata": {},
   "source": [
    "## Test"
   ]
  },
  {
   "cell_type": "code",
   "execution_count": 8,
   "id": "brutal-space",
   "metadata": {},
   "outputs": [],
   "source": [
    "had = NewFunctions.Hadron()"
   ]
  },
  {
   "cell_type": "code",
   "execution_count": 97,
   "id": "amended-rehabilitation",
   "metadata": {},
   "outputs": [],
   "source": [
    "df = pd.concat([herm9])"
   ]
  },
  {
   "cell_type": "code",
   "execution_count": 98,
   "id": "dramatic-sunrise",
   "metadata": {},
   "outputs": [],
   "source": [
    "X, y, err = dataslicercombined(df, ['pi+', 'pi-', 'pi0', 'k+', 'k-'], ['x', 'z', 'phT'])"
   ]
  },
  {
   "cell_type": "code",
   "execution_count": 86,
   "id": "monthly-origin",
   "metadata": {},
   "outputs": [],
   "source": [
    "anselmino_pars = [.18, -0.52, 0, -.01, -.06, 0, 1, 1.9, 0, 6.6, 10, 0, np.sqrt(.8)]"
   ]
  },
  {
   "cell_type": "code",
   "execution_count": 87,
   "id": "aboriginal-worse",
   "metadata": {},
   "outputs": [],
   "source": [
    "ishara_pars = [0.0905, -0.3010, -0.4313, .0606, -.1962, -.4870, .7837, 1.4248, 0, 4.3388, 6.3195, 0, .9985]"
   ]
  },
  {
   "cell_type": "code",
   "execution_count": 99,
   "id": "compatible-dining",
   "metadata": {},
   "outputs": [],
   "source": [
    "yhat = had.sivers(X, *ishara_pars)"
   ]
  },
  {
   "cell_type": "code",
   "execution_count": 89,
   "id": "optional-brazilian",
   "metadata": {},
   "outputs": [
    {
     "data": {
      "text/plain": [
       "1.6462"
      ]
     },
     "execution_count": 89,
     "metadata": {},
     "output_type": "execute_result"
    }
   ],
   "source": [
    "y.sum()"
   ]
  },
  {
   "cell_type": "code",
   "execution_count": 58,
   "id": "aggressive-oxygen",
   "metadata": {},
   "outputs": [
    {
     "data": {
      "text/plain": [
       "104"
      ]
     },
     "execution_count": 58,
     "metadata": {},
     "output_type": "execute_result"
    }
   ],
   "source": [
    "len(X)"
   ]
  },
  {
   "cell_type": "code",
   "execution_count": 59,
   "id": "fixed-hebrew",
   "metadata": {},
   "outputs": [
    {
     "data": {
      "text/plain": [
       "6.943244015640415"
      ]
     },
     "execution_count": 59,
     "metadata": {},
     "output_type": "execute_result"
    }
   ],
   "source": [
    "chisquare(y, yhat, err)/len(X)"
   ]
  },
  {
   "cell_type": "code",
   "execution_count": 140,
   "id": "entire-valley",
   "metadata": {},
   "outputs": [
    {
     "data": {
      "image/png": "[encoded data removed]",
      "text/plain": [
       "<Figure size 432x288 with 1 Axes>"
      ]
     },
     "metadata": {
      "needs_background": "light"
     },
     "output_type": "display_data"
    }
   ],
   "source": [
    "X, y, err = dataslicercombined(df, ['pi+'], ['x'])\n",
    "\n",
    "yhat = had.sivers(X, *ishara_pars)\n",
    "\n",
    "plt.plot(X[:, 0], yhat, label='yhat')\n",
    "plt.errorbar(X[:, 0], y, yerr=err, fmt='ro', label='y')\n",
    "plt.legend()\n",
    "plt.ylabel('Sivers')\n",
    "plt.xlabel('x')\n",
    "plt.show()"
   ]
  }
 ],
 "metadata": {
  "kernelspec": {
   "display_name": "Python 3",
   "language": "python",
   "name": "python3"
  },
  "language_info": {
   "codemirror_mode": {
    "name": "ipython",
    "version": 3
   },
   "file_extension": ".py",
   "mimetype": "text/x-python",
   "name": "python",
   "nbconvert_exporter": "python",
   "pygments_lexer": "ipython3",
   "version": "3.8.5"
  }
 },
 "nbformat": 4,
 "nbformat_minor": 5
}
