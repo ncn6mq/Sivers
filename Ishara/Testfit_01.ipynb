{
 "cells": [
  {
   "cell_type": "code",
   "execution_count": 80,
   "metadata": {},
   "outputs": [],
   "source": [
    "import lhapdf\n",
    "import pandas as pd\n",
    "import numpy as np\n",
    "import matplotlib.pyplot as plt"
   ]
  },
  {
   "cell_type": "code",
   "execution_count": 81,
   "metadata": {},
   "outputs": [],
   "source": [
    "Datafile='Data/HERMES_p_2009.csv'\n",
    "PDFdataset = lhapdf.mkPDF(\"JAM19PDF_proton_nlo\")\n",
    "#PDFdataset = lhapdf.mkPDF(\"CT10nnlo\")\n",
    "FF_pion_dataset=[\"JAM19FF_pion_nlo\"]"
   ]
  },
  {
   "cell_type": "code",
   "execution_count": 82,
   "metadata": {},
   "outputs": [
    {
     "name": "stdout",
     "output_type": "stream",
     "text": [
      "[0.086 0.094 0.097 0.099 0.1   0.101 0.103 0.036 0.056 0.076 0.098 0.133\n",
      " 0.186 0.275 0.109 0.106 0.1   0.093 0.086 0.08  0.073 0.072 0.081 0.087\n",
      " 0.093 0.098 0.102 0.106 0.035 0.055 0.076 0.098 0.133 0.185 0.273 0.111\n",
      " 0.103 0.095 0.087 0.08  0.073 0.07  0.084 0.091 0.094 0.096 0.097 0.096\n",
      " 0.098 0.035 0.055 0.076 0.098 0.133 0.186 0.275 0.106 0.102 0.096 0.089\n",
      " 0.083 0.079 0.072 0.083 0.092 0.097 0.099 0.102 0.103 0.106 0.036 0.056\n",
      " 0.076 0.099 0.134 0.186 0.274 0.111 0.107 0.103 0.096 0.089 0.081 0.072\n",
      " 0.081 0.086 0.091 0.091 0.091 0.092 0.094 0.035 0.055 0.076 0.098 0.133\n",
      " 0.186 0.275 0.102 0.098 0.094 0.086 0.081 0.076 0.07  0.093 0.102 0.105\n",
      " 0.106 0.107 0.111 0.11  0.036 0.056 0.076 0.099 0.133 0.186 0.276 0.119\n",
      " 0.116 0.112 0.105 0.094 0.083 0.074]\n"
     ]
    }
   ],
   "source": [
    "def TestPlot(filename):\n",
    "    tempdf=pd.read_csv(filename)\n",
    "    tempX=np.array(tempdf[\"x\"])\n",
    "    #tempY=np.array(tempdf[\"ReE\"])\n",
    "    #tempdY=np.array(tempdf[\"dReE\"])\n",
    "    #plt.plot(tempX,tempY,'*',color='green')\n",
    "    #plt.xlabel('Set Number')\n",
    "    #plt.ylabel('Re E')\n",
    "    #plt.errorbar(tempX,tempY,tempdY,fmt='o',color='blue')\n",
    "    return print(tempX)\n",
    "    \n",
    "TestPlot(Datafile)"
   ]
  },
  {
   "cell_type": "code",
   "execution_count": 83,
   "metadata": {},
   "outputs": [
    {
     "name": "stdout",
     "output_type": "stream",
     "text": [
      "[2.423 2.428 2.425 2.418 2.411 2.4   2.385]\n",
      "6\n"
     ]
    }
   ],
   "source": [
    "def dataslice(filename,Had,Var):\n",
    "    tempdf=pd.read_csv(filename)\n",
    "    temp_slice=tempdf[(tempdf[\"hadron\"]==Had)&(tempdf[\"1D_dependence\"]==Var)]\n",
    "    tempQ2=np.array(temp_slice[\"Q2\"])\n",
    "    tempX=np.array(temp_slice[\"x\"])\n",
    "    tempZ=np.array(temp_slice[\"z\"])\n",
    "    tempPHT=np.array(temp_slice[\"phT\"])\n",
    "    tempSiv=np.array(temp_slice[\"Siv\"])\n",
    "    temperrSiv=np.array(temp_slice[\"tot_err\"])\n",
    "    return tempQ2,tempX,tempZ,tempPHT,tempSiv,temperrSiv\n",
    "        \n",
    "\n",
    "print(dataslice(Datafile,\"pi+\",\"z\")[0])\n",
    "print(len(dataslice(Datafile,\"pi+\",\"z\")))"
   ]
  },
  {
   "cell_type": "code",
   "execution_count": 99,
   "metadata": {},
   "outputs": [],
   "source": [
    "def ks2Avg(m1,kperp2Avg):\n",
    "    test_ks2Avg=((m1**2)*kperp2Avg)/((m1**2)+kperp2Avg)\n",
    "    return test_ks2Avg\n",
    "\n",
    "def A0(z,pht,m1,kperp2Avg,pperp2Avg,eCharg):\n",
    "    tempA0part1=(((z**2)*kperp2Avg+pperp2Avg)*((ks2Avg(m1,kperp2Avg))**2))/((((z**2)*(ks2Avg(m1,kperp2Avg))+pperp2Avg)**2)*kperp2Avg)\n",
    "    tempA0part21=(pht**2)*(z**2)*(ks2Avg(m1,kperp2Avg) - kperp2Avg)\n",
    "    tempA0part22=((z**2)*(ks2Avg(m1,kperp2Avg))+pperp2Avg)*((z**2)*kperp2Avg+pperp2Avg)\n",
    "    tempA0part2=np.exp(-tempA0part21/tempA0part22)\n",
    "    tempA0part3=(np.sqrt(2*eCharg))*z*pht/m1\n",
    "    tempA0=tempA0part1*tempA0part2*tempA0part3\n",
    "    return tempA0\n",
    "\n",
    "#print(A0(0.2,0.3,1,2.5,1.5,1/137))\n",
    "\n",
    "def NNu(x,Nu,alphau,betau):\n",
    "    tempNNu = Nu*(x**alphau)*((1-x)**(betau))*((alphau+betau)**(alphau+betau))/((alphau**alphau)*(betau**betau))\n",
    "    return tempNNu\n",
    "\n",
    "def NNubar(x,Nubar,alphaubar=0,betaubar=0):\n",
    "    #tempNNubar = Nubar*(x**alphaubar)*((1-x)**(betaubar))*((alphaubar+betaubar)**(alphaubar+betaubar))/((alphaubar**alphaubar)*(betaubar**betaubar))\n",
    "    tempNNubar = Nubar\n",
    "    return tempNNubar\n",
    "\n",
    "def NNd(x,Nd,alphad,betad):\n",
    "    tempNNd = Nd*(x**alphad)*((1-x)**(betad))*((alphad+betad)**(alphad+betad))/((alphad**alphad)*(betad**betad))\n",
    "    return tempNNd\n",
    "\n",
    "def NNdbar(x,Ndbar,alphadbar=0,betadbar=0):\n",
    "    #tempNNdbar = Ndbar*(x**alphadbar)*((1-x)**(betadbar))*((alphadbar+betadbar)**(alphadbar+betadbar))/((alphadbar**alphadbar)*(betadbar**betadbar))\n",
    "    tempNNdbar = Ndbar\n",
    "    return tempNNdbar\n",
    "\n",
    "def NNs(x,Ns,alphas,betas):\n",
    "    #tempNNu = Ns*(x**alphas)*((1-x)**(betas))*((alphas+betas)**(alphas+betas))/((alphas**alphas)*(betas**betas))\n",
    "    tempNNs = 0\n",
    "    return tempNNs\n",
    "\n",
    "def NNsbar(x,Nsbar,alphasbar,betasbar):\n",
    "    #tempNNsbar = Nsbar*(x**alphasbar)*((1-x)**(betasbar))*((alphasbar+betasbar)**(alphasbar+betasbar))/((alphasbar**alphasbar)*(betasbar**betasbar))\n",
    "    tempNNsbar = 0\n",
    "    return tempNNsbar\n",
    "\n",
    "\n",
    "def xFxQ2(dataset,flavor,x,QQ):\n",
    "    temp_parton_dist_x=(dataset.xfxQ2(flavor, x, QQ))\n",
    "    return temp_parton_dist_x\n",
    "\n",
    "def zFzQ(dataset,flavor,zz,QQ):\n",
    "    # Here \"0\" represents the central values from the girds\n",
    "    temp_zD1=lhapdf.mkPDF(dataset[0], 0)\n",
    "    zD1_vec=(temp_zD1.xfxQ2(flavor,zz,QQ))\n",
    "    return zD1_vec\n"
   ]
  },
  {
   "cell_type": "code",
   "execution_count": 100,
   "metadata": {},
   "outputs": [
    {
     "data": {
      "text/plain": [
       "0.002754462098810499"
      ]
     },
     "execution_count": 100,
     "metadata": {},
     "output_type": "execute_result"
    }
   ],
   "source": [
    "def ASivPiP(x,z,pht,m1,kperp2Avg,pperpAvg,eCharg,eu,edbar,Nu,alphau,betau,Ndbar,QQ):\n",
    "    Ucontribution1 = NNu(x,Nu,alphau,betau)*(eu**2)*xFxQ2(PDFdataset,2,x,QQ)*zFzQ(FF_pion_dataset,2,z,QQ)\n",
    "    dbarcontribution1 = NNdbar(x,Ndbar)*(edbar**2)*xFxQ2(PDFdataset,-1,x,QQ)*zFzQ(FF_pion_dataset,-1,z,QQ)\n",
    "    Ucontribution2 = (eu**2)*xFxQ2(PDFdataset,2,x,QQ)*zFzQ(FF_pion_dataset,2,z,QQ)\n",
    "    dbarcontribution2 = (edbar**2)*xFxQ2(PDFdataset,-1,x,QQ)*zFzQ(FF_pion_dataset,-1,z,QQ)\n",
    "    tempNumerator = Ucontribution1 + dbarcontribution1\n",
    "    tempDenominator = Ucontribution2 + dbarcontribution2\n",
    "    tempASivPiP = A0(z,pht,m1,kperp2Avg,pperpAvg,eCharg)*tempNumerator/tempDenominator\n",
    "    return tempASivPiP\n",
    "\n",
    "M1=np.sqrt(0.8)\n",
    "Kp2A=0.57\n",
    "Pp2A=0.12\n",
    "ee=1/137\n",
    "eU=2/3\n",
    "eDbar=1/3\n",
    "AlphaU=1.0\n",
    "BetaU=6.6\n",
    "NU=0.18\n",
    "NDbar=-0.06\n",
    "\n",
    "\n",
    "ASivPiP(0.086,0.234,0.346,M1,Kp2A,Pp2A,ee,eU,eDbar,NU,AlphaU,BetaU,NDbar,2.423)"
   ]
  },
  {
   "cell_type": "code",
   "execution_count": 101,
   "metadata": {},
   "outputs": [
    {
     "name": "stdout",
     "output_type": "stream",
     "text": [
      "[0.00868896393077473, 0.00883441628409108, 0.009633213994764012, 0.011022828952177453, 0.01325435652602485, 0.016638573816476387, 0.021837979867059727]\n"
     ]
    }
   ],
   "source": [
    "#M1=np.sqrt(0.8)\n",
    "#Kp2A=0.57\n",
    "#Pp2A=0.12\n",
    "#ee=1/137\n",
    "#eU=2/3\n",
    "#eDbar=1/3\n",
    "#AlphaU=1.0\n",
    "#BetaU=6.6\n",
    "#NU=0.18\n",
    "#NDbar=-0.06\n",
    "\n",
    "M1=1\n",
    "Kp2A=0.57\n",
    "Pp2A=0.12\n",
    "ee=1/137\n",
    "eU=2/3\n",
    "eDbar=1/3\n",
    "AlphaU=1\n",
    "BetaU=1\n",
    "NU=1\n",
    "NDbar=1\n",
    "\n",
    "#dataslice(Datafile,\"pi+\",\"z\")\n",
    "\n",
    "def CalcSiversPiP(datfile,hadron,dependence,m1,kperp2Avg,pperpAvg,eCharg,eu,edbar,Nu,alphau,betau,Ndbar):\n",
    "    data_points=len(dataslice(datfile,hadron,dependence)[0])\n",
    "    temp_kinematics=np.array(dataslice(datfile,hadron,dependence))\n",
    "    temp_Siv=[]\n",
    "    for i in range(0,data_points):\n",
    "        temp_Siv.append(ASivPiP(temp_kinematics[1][i],temp_kinematics[2][i],temp_kinematics[3][i],M1,Kp2A,Pp2A,ee,eU,eDbar,NU,AlphaU,BetaU,NDbar,temp_kinematics[0][i]))        \n",
    "    return temp_Siv\n",
    "\n",
    "\n",
    "print(CalcSiversPiP(Datafile,\"pi+\",\"x\",M1,Kp2A,Pp2A,ee,eU,eDbar,NU,AlphaU,BetaU,NDbar))"
   ]
  },
  {
   "cell_type": "code",
   "execution_count": 113,
   "metadata": {},
   "outputs": [
    {
     "data": {
      "image/png": "[encoded data removed]",
      "text/plain": [
       "<Figure size 432x288 with 1 Axes>"
      ]
     },
     "metadata": {
      "needs_background": "light"
     },
     "output_type": "display_data"
    }
   ],
   "source": [
    "M1=np.sqrt(0.8)\n",
    "Kp2A=0.57\n",
    "Pp2A=0.12\n",
    "ee=1\n",
    "eU=2/3\n",
    "eDbar=1/3\n",
    "AlphaU=1.0\n",
    "BetaU=6.6\n",
    "NU=0.18\n",
    "NDbar=-0.06\n",
    "\n",
    "\n",
    "\n",
    "def PlotSiversPiP(datfile,hadron,dependence,m1,kperp2Avg,pperpAvg,eCharg,eu,edbar,Nu,alphau,betau,Ndbar):\n",
    "    data_points=len(dataslice(datfile,hadron,dependence)[0])\n",
    "    temp_kinematics=np.array(dataslice(datfile,hadron,dependence))\n",
    "    temp_Siv=[]\n",
    "    for i in range(0,data_points):\n",
    "        temp_Siv.append(1*ASivPiP(temp_kinematics[1][i],temp_kinematics[2][i],temp_kinematics[3][i],M1,Kp2A,Pp2A,ee,eU,eDbar,NU,AlphaU,BetaU,NDbar,temp_kinematics[0][i]))        \n",
    "    plt.plot(temp_kinematics[1],temp_Siv,'red')\n",
    "    plt.plot(temp_kinematics[1],temp_kinematics[4],'.b')\n",
    "    \n",
    "PlotSiversPiP(Datafile,\"pi+\",\"x\",M1,Kp2A,Pp2A,ee,eU,eDbar,NU,AlphaU,BetaU,NDbar)    "
   ]
  },
  {
   "cell_type": "markdown",
   "metadata": {},
   "source": [
    "#print(A0(z,pht,m1,kperp2Avg,pperpAvg,eCharg))\n",
    "print(A0(z,pht,m1,kperp2Avg,pperpAvg,eCharg))"
   ]
  },
  {
   "cell_type": "code",
   "execution_count": 95,
   "metadata": {},
   "outputs": [
    {
     "data": {
      "text/plain": [
       "0.04757906170651974"
      ]
     },
     "execution_count": 95,
     "metadata": {},
     "output_type": "execute_result"
    }
   ],
   "source": [
    "A0(1,1,1,1,1,1/137)"
   ]
  },
  {
   "cell_type": "code",
   "execution_count": null,
   "metadata": {},
   "outputs": [],
   "source": []
  }
 ],
 "metadata": {
  "kernelspec": {
   "display_name": "Python 3",
   "language": "python",
   "name": "python3"
  },
  "language_info": {
   "codemirror_mode": {
    "name": "ipython",
    "version": 3
   },
   "file_extension": ".py",
   "mimetype": "text/x-python",
   "name": "python",
   "nbconvert_exporter": "python",
   "pygments_lexer": "ipython3",
   "version": "3.8.5"
  }
 },
 "nbformat": 4,
 "nbformat_minor": 4
}
