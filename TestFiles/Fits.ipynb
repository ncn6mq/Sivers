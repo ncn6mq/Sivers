{
 "cells": [
  {
   "cell_type": "code",
   "execution_count": 1,
   "id": "accessible-generator",
   "metadata": {},
   "outputs": [],
   "source": [
    "%load_ext autoreload\n",
    "%autoreload 2"
   ]
  },
  {
   "cell_type": "code",
   "execution_count": 2,
   "id": "handed-timing",
   "metadata": {},
   "outputs": [],
   "source": [
    "import numpy as np\n",
    "import pandas as pd\n",
    "from scipy import optimize\n",
    "import matplotlib.pyplot as plt\n",
    "\n",
    "import functions"
   ]
  },
  {
   "cell_type": "code",
   "execution_count": 3,
   "id": "alpine-market",
   "metadata": {},
   "outputs": [],
   "source": [
    "pip = functions.PiPlus()"
   ]
  },
  {
   "cell_type": "code",
   "execution_count": 70,
   "id": "leading-helena",
   "metadata": {},
   "outputs": [],
   "source": [
    "comp = pd.read_csv('COMPASS_d_2009.csv')\n",
    "herm = pd.read_csv('HERMES_p_2009.csv')\n",
    "df = pd.concat([comp, herm])"
   ]
  },
  {
   "cell_type": "code",
   "execution_count": 17,
   "id": "sealed-search",
   "metadata": {},
   "outputs": [],
   "source": [
    "pipdata = df.loc[df['hadron'] == 'pi+', :]"
   ]
  },
  {
   "cell_type": "code",
   "execution_count": 18,
   "id": "former-second",
   "metadata": {},
   "outputs": [],
   "source": [
    "pipkins = np.array(pipdata[['x', 'z', 'phT', 'Q2']])"
   ]
  },
  {
   "cell_type": "code",
   "execution_count": 19,
   "id": "general-kuwait",
   "metadata": {},
   "outputs": [
    {
     "data": {
      "text/plain": [
       "array([0.00139287, 0.00181429, 0.00233682, 0.00279853, 0.00362094,\n",
       "       0.00487984, 0.00621739, 0.00652098, 0.00305777, 0.00325126,\n",
       "       0.00300023, 0.00272009, 0.00266475, 0.00287355, 0.00397921,\n",
       "       0.00735364, 0.0162003 , 0.00077871, 0.00128017, 0.00180345,\n",
       "       0.00235905, 0.00304852, 0.00398625, 0.00548485, 0.0083014 ,\n",
       "       0.01873337])"
      ]
     },
     "execution_count": 19,
     "metadata": {},
     "output_type": "execute_result"
    }
   ],
   "source": [
    "pip.sivers(pipkins, 2, 2, 2, 2, 2, 2, 2)"
   ]
  },
  {
   "cell_type": "code",
   "execution_count": 20,
   "id": "sharing-tissue",
   "metadata": {},
   "outputs": [],
   "source": [
    "pars, cov = optimize.curve_fit(pip.sivers, pipkins, pipdata['Siv'],\n",
    "                               sigma=pipdata['tot_err'], method='lm')"
   ]
  },
  {
   "cell_type": "markdown",
   "id": "vertical-artist",
   "metadata": {},
   "source": [
    "Parameters in order of: Nu, au, bu, Ndbar, adbar, bdbar, m1"
   ]
  },
  {
   "cell_type": "code",
   "execution_count": 21,
   "id": "after-scheduling",
   "metadata": {},
   "outputs": [
    {
     "data": {
      "text/plain": [
       "array([ 3.58423516e-01,  1.19369737e+00,  2.10079251e-07, -2.55374861e-01,\n",
       "        1.00000000e+00,  1.00000000e+00,  1.01487045e+00])"
      ]
     },
     "execution_count": 21,
     "metadata": {},
     "output_type": "execute_result"
    }
   ],
   "source": [
    "pars"
   ]
  },
  {
   "cell_type": "code",
   "execution_count": 24,
   "id": "intellectual-warren",
   "metadata": {},
   "outputs": [],
   "source": [
    "xdepend = pipdata.loc[pipdata['1D_dependence'] == 'x', :]"
   ]
  },
  {
   "cell_type": "code",
   "execution_count": 25,
   "id": "continental-prefix",
   "metadata": {},
   "outputs": [],
   "source": [
    "xdependkins = np.array(xdepend[['x', 'z', 'phT', 'Q2']])"
   ]
  },
  {
   "cell_type": "code",
   "execution_count": 27,
   "id": "hungarian-acrylic",
   "metadata": {},
   "outputs": [],
   "source": [
    "yhat = pip.sivers(xdependkins, *pars)"
   ]
  },
  {
   "cell_type": "code",
   "execution_count": 35,
   "id": "intermediate-interstate",
   "metadata": {},
   "outputs": [
    {
     "data": {
      "text/plain": [
       "7.452197824594449"
      ]
     },
     "execution_count": 35,
     "metadata": {},
     "output_type": "execute_result"
    }
   ],
   "source": [
    "np.sum(((xdepend['Siv'] - yhat)/xdepend['tot_err']) ** 2)"
   ]
  },
  {
   "cell_type": "code",
   "execution_count": 32,
   "id": "wired-enough",
   "metadata": {},
   "outputs": [
    {
     "data": {
      "image/png": "[encoded data removed]",
      "text/plain": [
       "<Figure size 432x288 with 1 Axes>"
      ]
     },
     "metadata": {
      "needs_background": "light"
     },
     "output_type": "display_data"
    }
   ],
   "source": [
    "plt.scatter(xdepend['x'], xdepend['Siv'], label='true')\n",
    "plt.scatter(xdepend['x'], yhat, label='fitted')\n",
    "plt.xlabel('x')\n",
    "plt.ylabel('$A^{\\pi+}_{Siv}$')\n",
    "plt.legend()\n",
    "plt.show()"
   ]
  },
  {
   "cell_type": "markdown",
   "id": "front-worcester",
   "metadata": {},
   "source": [
    "# Hermes data"
   ]
  },
  {
   "cell_type": "code",
   "execution_count": 3,
   "id": "lesser-carpet",
   "metadata": {},
   "outputs": [],
   "source": [
    "pip = functions.PiPlus()"
   ]
  },
  {
   "cell_type": "code",
   "execution_count": 36,
   "id": "suitable-hayes",
   "metadata": {},
   "outputs": [],
   "source": [
    "df = pd.read_csv('HERMES_p_2009.csv')"
   ]
  },
  {
   "cell_type": "code",
   "execution_count": 52,
   "id": "average-canberra",
   "metadata": {},
   "outputs": [],
   "source": [
    "pipdata = df.loc[df['hadron'] == 'pi+', :]"
   ]
  },
  {
   "cell_type": "code",
   "execution_count": 54,
   "id": "applied-geology",
   "metadata": {},
   "outputs": [
    {
     "name": "stderr",
     "output_type": "stream",
     "text": [
      "<ipython-input-54-793fe159329a>:1: SettingWithCopyWarning: \n",
      "A value is trying to be set on a copy of a slice from a DataFrame.\n",
      "Try using .loc[row_indexer,col_indexer] = value instead\n",
      "\n",
      "See the caveats in the documentation: https://pandas.pydata.org/pandas-docs/stable/user_guide/indexing.html#returning-a-view-versus-a-copy\n",
      "  pipdata['Siv'] *= .073\n"
     ]
    }
   ],
   "source": [
    "pipdata['Siv'] *= .073"
   ]
  },
  {
   "cell_type": "code",
   "execution_count": 55,
   "id": "formed-ceramic",
   "metadata": {},
   "outputs": [],
   "source": [
    "pipkins = np.array(pipdata[['x', 'z', 'phT', 'Q2']])"
   ]
  },
  {
   "cell_type": "code",
   "execution_count": 56,
   "id": "historical-juice",
   "metadata": {},
   "outputs": [
    {
     "data": {
      "text/plain": [
       "array([0.00154386, 0.00242304, 0.00336493, 0.00447297, 0.00567464,\n",
       "       0.00673405, 0.00771677, 0.00247082, 0.00225891, 0.00245674,\n",
       "       0.00300155, 0.00417926, 0.00648214, 0.01086893, 0.00091061,\n",
       "       0.00175433, 0.00232148, 0.00278981, 0.00356827, 0.00528942,\n",
       "       0.00951794])"
      ]
     },
     "execution_count": 56,
     "metadata": {},
     "output_type": "execute_result"
    }
   ],
   "source": [
    "pip.sivers(pipkins, 2, 2, 2, 2, 2, 2, 2)"
   ]
  },
  {
   "cell_type": "code",
   "execution_count": 57,
   "id": "rural-karma",
   "metadata": {},
   "outputs": [
    {
     "name": "stderr",
     "output_type": "stream",
     "text": [
      "/home/nick/Documents/Sivers/functions.py:42: RuntimeWarning: invalid value encountered in double_scalars\n",
      "  return n * x**a * (1 - x)**b * (((a + b)**(a + b))/(a**a * b**b))\n",
      "/home/nick/.local/lib/python3.8/site-packages/scipy/optimize/minpack.py:828: OptimizeWarning: Covariance of the parameters could not be estimated\n",
      "  warnings.warn('Covariance of the parameters could not be estimated',\n"
     ]
    }
   ],
   "source": [
    "pars, cov = optimize.curve_fit(pip.sivers, pipkins, pipdata['Siv'],\n",
    "                               sigma=pipdata['tot_err'], method='lm')"
   ]
  },
  {
   "cell_type": "markdown",
   "id": "portable-night",
   "metadata": {},
   "source": [
    "Parameters in order of: Nu, au, bu, Ndbar, adbar, bdbar, m1"
   ]
  },
  {
   "cell_type": "code",
   "execution_count": 58,
   "id": "supreme-import",
   "metadata": {},
   "outputs": [
    {
     "data": {
      "text/plain": [
       "array([3.30884890e+03, 5.29416420e-01, 8.07471400e-01, 3.21093441e+03,\n",
       "       1.00000000e+00, 1.00000000e+00, 1.23730209e+04])"
      ]
     },
     "execution_count": 58,
     "metadata": {},
     "output_type": "execute_result"
    }
   ],
   "source": [
    "pars"
   ]
  },
  {
   "cell_type": "code",
   "execution_count": 60,
   "id": "strong-juice",
   "metadata": {},
   "outputs": [],
   "source": [
    "xdepend = pipdata.loc[pipdata['1D_dependence'] == 'x', :]"
   ]
  },
  {
   "cell_type": "code",
   "execution_count": 61,
   "id": "loose-screening",
   "metadata": {},
   "outputs": [],
   "source": [
    "xdependkins = np.array(xdepend[['x', 'z', 'phT', 'Q2']])"
   ]
  },
  {
   "cell_type": "code",
   "execution_count": 68,
   "id": "checked-ambassador",
   "metadata": {},
   "outputs": [],
   "source": [
    "yhat = pip.sivers(xdependkins, *pars)"
   ]
  },
  {
   "cell_type": "code",
   "execution_count": 63,
   "id": "literary-pregnancy",
   "metadata": {},
   "outputs": [
    {
     "data": {
      "text/plain": [
       "0.1859753919380463"
      ]
     },
     "execution_count": 63,
     "metadata": {},
     "output_type": "execute_result"
    }
   ],
   "source": [
    "np.sum(((pipdata['Siv'] - yhat)/pipdata['tot_err']) ** 2)"
   ]
  },
  {
   "cell_type": "code",
   "execution_count": 67,
   "id": "bottom-bride",
   "metadata": {},
   "outputs": [
    {
     "data": {
      "text/plain": [
       "array([[0.036, 0.336, 0.489, 1.281],\n",
       "       [0.056, 0.356, 0.409, 1.631],\n",
       "       [0.076, 0.367, 0.372, 2.017],\n",
       "       [0.098, 0.376, 0.356, 2.467],\n",
       "       [0.133, 0.379, 0.344, 3.203],\n",
       "       [0.186, 0.379, 0.339, 4.321],\n",
       "       [0.275, 0.375, 0.344, 6.179]])"
      ]
     },
     "execution_count": 67,
     "metadata": {},
     "output_type": "execute_result"
    }
   ],
   "source": [
    "xdependkins"
   ]
  },
  {
   "cell_type": "code",
   "execution_count": 69,
   "id": "musical-underwear",
   "metadata": {},
   "outputs": [
    {
     "data": {
      "image/png": "[encoded data removed]",
      "text/plain": [
       "<Figure size 432x288 with 1 Axes>"
      ]
     },
     "metadata": {
      "needs_background": "light"
     },
     "output_type": "display_data"
    }
   ],
   "source": [
    "plt.scatter(xdepend['x'], xdepend['Siv'], label='true')\n",
    "plt.scatter(xdepend['x'], yhat, label='fitted')\n",
    "plt.xlabel('x')\n",
    "plt.ylabel('$A^{\\pi+}_{Siv}$')\n",
    "plt.legend()\n",
    "plt.show()"
   ]
  },
  {
   "cell_type": "markdown",
   "id": "advance-christian",
   "metadata": {},
   "source": [
    "# Check $\\chi^2$"
   ]
  },
  {
   "cell_type": "code",
   "execution_count": null,
   "id": "familiar-canon",
   "metadata": {},
   "outputs": [],
   "source": []
  }
 ],
 "metadata": {
  "kernelspec": {
   "display_name": "Python 3",
   "language": "python",
   "name": "python3"
  },
  "language_info": {
   "codemirror_mode": {
    "name": "ipython",
    "version": 3
   },
   "file_extension": ".py",
   "mimetype": "text/x-python",
   "name": "python",
   "nbconvert_exporter": "python",
   "pygments_lexer": "ipython3",
   "version": "3.8.5"
  }
 },
 "nbformat": 4,
 "nbformat_minor": 5
}
