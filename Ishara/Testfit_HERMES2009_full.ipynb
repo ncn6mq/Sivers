{
 "cells": [
  {
   "cell_type": "code",
   "execution_count": 1,
   "metadata": {},
   "outputs": [],
   "source": [
    "import lhapdf\n",
    "import pandas as pd\n",
    "import numpy as np\n",
    "import matplotlib.pyplot as plt\n",
    "import scipy.optimize as opt\n",
    "\n",
    "\n",
    "# Global Constants\n",
    "M1_test=np.sqrt(0.8)\n",
    "Kp2A=0.57\n",
    "Pp2A=0.12\n",
    "\n",
    "ee=1\n",
    "eU=2/3\n",
    "eUbar=-2/3\n",
    "eD=-1/3\n",
    "eDbar=1/3\n",
    "eS=-1/3\n",
    "eSbar=1/3\n",
    "\n",
    "AlphaU_test=1.0\n",
    "BetaU_test=6.6\n",
    "AlphaD_test=1.9\n",
    "BetaD_test=10\n",
    "AlphaS_test=0\n",
    "BetaS_test=0\n",
    "\n",
    "NU_test=0.18\n",
    "NUbar_test=-0.01\n",
    "ND_test=-0.52\n",
    "NDbar_test=-0.06\n",
    "NS_test=0\n",
    "NSbar_test=0\n",
    "\n",
    "\n",
    "Datafile='Data/HERMES_p_2009.csv'\n",
    "PDFdataset = lhapdf.mkPDF(\"JAM19PDF_proton_nlo\")\n",
    "#PDFdataset = lhapdf.mkPDF(\"CT10nnlo\")\n",
    "FF_pion_dataset=[\"JAM19FF_pion_nlo\"]"
   ]
  },
  {
   "cell_type": "code",
   "execution_count": 4,
   "metadata": {},
   "outputs": [],
   "source": [
    "def dataslice(filename,Had,Var):\n",
    "    tempdf=pd.read_csv(filename)\n",
    "    temp_slice=tempdf[(tempdf[\"hadron\"]==Had)&(tempdf[\"1D_dependence\"]==Var)]\n",
    "    tempQ2=np.array(temp_slice[\"Q2\"])\n",
    "    tempX=np.array(temp_slice[\"x\"])\n",
    "    tempZ=np.array(temp_slice[\"z\"])\n",
    "    tempPHT=np.array(temp_slice[\"phT\"])\n",
    "    tempSiv=np.array(temp_slice[\"Siv\"])\n",
    "    temperrSiv=np.array(temp_slice[\"tot_err\"])\n",
    "    return tempQ2,tempX,tempZ,tempPHT,tempSiv,temperrSiv\n",
    "\n",
    "def ks2Avg(m1,kperp2Avg):\n",
    "    test_ks2Avg=((m1**2)*kperp2Avg)/((m1**2)+kperp2Avg)\n",
    "    return test_ks2Avg\n",
    "\n",
    "def A0(z,pht,m1,kperp2Avg,pperp2Avg,eCharg):\n",
    "    tempA0part1=(((z**2)*kperp2Avg+pperp2Avg)*((ks2Avg(m1,kperp2Avg))**2))/((((z**2)*(ks2Avg(m1,kperp2Avg))+pperp2Avg)**2)*kperp2Avg)\n",
    "    tempA0part21=(pht**2)*(z**2)*(ks2Avg(m1,kperp2Avg) - kperp2Avg)\n",
    "    tempA0part22=((z**2)*(ks2Avg(m1,kperp2Avg))+pperp2Avg)*((z**2)*kperp2Avg+pperp2Avg)\n",
    "    tempA0part2=np.exp(-tempA0part21/tempA0part22)\n",
    "    tempA0part3=(np.sqrt(2*eCharg))*z*pht/m1\n",
    "    tempA0=tempA0part1*tempA0part2*tempA0part3\n",
    "    return tempA0\n",
    "\n",
    "def NNq(x,Nq,aq,bq):\n",
    "    tempNNq = Nq*(x**aq)*((1-x)**(bq))*((aq+bq)**(aq+bq))/((aq**aq)*(bq**bq))\n",
    "    return tempNNq\n",
    "\n",
    "def NNqbar(x,Nqbar):\n",
    "    tempNNqbar = Nqbar\n",
    "    return tempNNqbar\n",
    "\n",
    "def xFxQ2(dataset,flavor,x,QQ):\n",
    "    temp_parton_dist_x=(dataset.xfxQ2(flavor, x, QQ))\n",
    "    return temp_parton_dist_x\n",
    "\n",
    "def zFzQ(dataset,flavor,zz,QQ):\n",
    "    # Here \"0\" represents the central values from the girds\n",
    "    temp_zD1=lhapdf.mkPDF(dataset[0], 0)\n",
    "    zD1_vec=(temp_zD1.xfxQ2(flavor,zz,QQ))\n",
    "    return zD1_vec\n",
    "\n",
    "def Asymmetry(QQ,x,z,pht,m1,Nq,aq,bq,Nqbar,eq,eqbar,lhaqID,lhaqbarID):\n",
    "    kperp2Avg=Kp2A\n",
    "    pperpAvg=Pp2A\n",
    "    eCharg=ee\n",
    "    Ucontribution1 = NNq(x,Nq,aq,bq)*(eq**2)*xFxQ2(PDFdataset,lhaqID,x,QQ)*zFzQ(FF_pion_dataset,lhaqID,z,QQ)\n",
    "    dbarcontribution1 = NNqbar(x,Nqbar)*(eqbar**2)*xFxQ2(PDFdataset,lhaqbarID,x,QQ)*zFzQ(FF_pion_dataset,lhaqbarID,z,QQ)\n",
    "    Ucontribution2 = (eq**2)*xFxQ2(PDFdataset,lhaqID,x,QQ)*zFzQ(FF_pion_dataset,lhaqID,z,QQ)\n",
    "    dbarcontribution2 = (eqbar**2)*xFxQ2(PDFdataset,lhaqbarID,x,QQ)*zFzQ(FF_pion_dataset,lhaqbarID,z,QQ)\n",
    "    tempNumerator = Ucontribution1 + dbarcontribution1\n",
    "    tempDenominator = Ucontribution2 + dbarcontribution2\n",
    "    tempASivPiP = A0(z,pht,m1,kperp2Avg,pperpAvg,eCharg)*tempNumerator/tempDenominator\n",
    "    return tempASivPiP\n",
    "    \n",
    "    "
   ]
  },
  {
   "cell_type": "code",
   "execution_count": 12,
   "metadata": {},
   "outputs": [],
   "source": [
    "### Definitions for hadron = Pi_plus ####\n",
    "\n",
    "def ASivPiPFitting(KV,m1,Nu,alphau,betau,Ndbar):\n",
    "    QQ,x,z,pht=KV\n",
    "    array_size=len(x)\n",
    "    tempASivPiP_val=[]\n",
    "    for i in range(0,array_size):\n",
    "        tempASivPiP=Asymmetry(QQ[i],x[i],z[i],pht[i],m1,Nu,alphau,betau,Ndbar,eU,eDbar,2,-1)\n",
    "        tempASivPiP_val.append(tempASivPiP)\n",
    "    return tempASivPiP_val\n",
    "\n",
    "def Chi2PiP(datfile,hadron,dependence,m1,Nu,alphau,betau,Ndbar):\n",
    "    data_points=len(dataslice(datfile,hadron,dependence)[0])\n",
    "    temp_kinematics=np.array(dataslice(datfile,hadron,dependence))\n",
    "    tempQ=temp_kinematics[0]\n",
    "    tempX=temp_kinematics[1]\n",
    "    tempZ=temp_kinematics[2]\n",
    "    tempphT=temp_kinematics[3]\n",
    "    temp_exp=temp_kinematics[4]\n",
    "    temp_sigma=temp_kinematics[5]\n",
    "    temp_theory=ASivPiPFitting((tempQ,tempX,tempZ,tempphT),m1,Nu,alphau,betau,Ndbar)\n",
    "    temp_Chi2_val=np.sum(((temp_theory-temp_exp)/temp_sigma)**2)\n",
    "    return temp_Chi2_val\n",
    "\n",
    "\n",
    "### Definitions for hadron = Pi_minus ####\n",
    "\n",
    "def ASivPiMFitting(KV,m1,Nd,alphad,betad,Nubar):\n",
    "    QQ,x,z,pht=KV\n",
    "    array_size=len(x)\n",
    "    tempASivPiP_val=[]\n",
    "    for i in range(0,array_size):\n",
    "        tempASivPiP=Asymmetry(QQ[i],x[i],z[i],pht[i],m1,Nd,alphad,betad,Nubar,eD,eUbar,1,-2)\n",
    "        tempASivPiP_val.append(tempASivPiP)\n",
    "    return tempASivPiP_val\n",
    "\n",
    "def Chi2PiM(datfile,hadron,dependence,m1,Nd,alphad,betad,Nubar):\n",
    "    data_points=len(dataslice(datfile,hadron,dependence)[0])\n",
    "    temp_kinematics=np.array(dataslice(datfile,hadron,dependence))\n",
    "    tempQ=temp_kinematics[0]\n",
    "    tempX=temp_kinematics[1]\n",
    "    tempZ=temp_kinematics[2]\n",
    "    tempphT=temp_kinematics[3]\n",
    "    temp_exp=temp_kinematics[4]\n",
    "    temp_sigma=temp_kinematics[5]\n",
    "    temp_theory=ASivPiMFitting((tempQ,tempX,tempZ,tempphT),m1,Nd,alphad,betad,Nubar)\n",
    "    temp_Chi2_val=np.sum(((temp_theory-temp_exp)/temp_sigma)**2)\n",
    "    return temp_Chi2_val\n",
    "\n",
    "\n",
    "### Definitions for hadron = Pi_0 ####\n",
    "\n",
    "def ASivPi0Fitting(KV,m1,Nu,alphau,betau,Nubar):\n",
    "    QQ,x,z,pht=KV\n",
    "    array_size=len(x)\n",
    "    tempASivPi0_val=[]\n",
    "    for i in range(0,array_size):\n",
    "        tempASivPi0=Asymmetry(QQ[i],x[i],z[i],pht[i],m1,Nu,alphau,betau,Nubar,eU,eUbar,2,-2)\n",
    "        tempASivPi0_val.append(tempASivPi0)\n",
    "    return tempASivPi0_val\n",
    "\n",
    "def Chi2Pi0(datfile,hadron,dependence,m1,Nu,alphau,betau,Nubar):\n",
    "    data_points=len(dataslice(datfile,hadron,dependence)[0])\n",
    "    temp_kinematics=np.array(dataslice(datfile,hadron,dependence))\n",
    "    tempQ=temp_kinematics[0]\n",
    "    tempX=temp_kinematics[1]\n",
    "    tempZ=temp_kinematics[2]\n",
    "    tempphT=temp_kinematics[3]\n",
    "    temp_exp=temp_kinematics[4]\n",
    "    temp_sigma=temp_kinematics[5]\n",
    "    temp_theory=ASivPi0Fitting((tempQ,tempX,tempZ,tempphT),m1,Nu,alphau,betau,Nubar)\n",
    "    temp_Chi2_val=np.sum(((temp_theory-temp_exp)/temp_sigma)**2)\n",
    "    return temp_Chi2_val\n",
    "\n",
    "\n",
    "### Definitions for hadron = K_plus ####\n",
    "\n",
    "def ASivKPFitting(KV,m1,Nu,alphau,betau,Nsbar):\n",
    "    QQ,x,z,pht=KV\n",
    "    array_size=len(x)\n",
    "    tempASivKP_val=[]\n",
    "    for i in range(0,array_size):\n",
    "        tempASivKP=Asymmetry(QQ[i],x[i],z[i],pht[i],m1,Nu,alphau,betau,Nsbar,eU,eSbar,2,-3)\n",
    "        tempASivKP_val.append(tempASivKP)\n",
    "    return tempASivKP_val\n",
    "\n",
    "def Chi2KP(datfile,hadron,dependence,m1,Nu,alphau,betau,Nsbar):\n",
    "    data_points=len(dataslice(datfile,hadron,dependence)[0])\n",
    "    temp_kinematics=np.array(dataslice(datfile,hadron,dependence))\n",
    "    tempQ=temp_kinematics[0]\n",
    "    tempX=temp_kinematics[1]\n",
    "    tempZ=temp_kinematics[2]\n",
    "    tempphT=temp_kinematics[3]\n",
    "    temp_exp=temp_kinematics[4]\n",
    "    temp_sigma=temp_kinematics[5]\n",
    "    temp_theory=ASivKPFitting((tempQ,tempX,tempZ,tempphT),m1,Nu,alphau,betau,Nsbar)\n",
    "    temp_Chi2_val=np.sum(((temp_theory-temp_exp)/temp_sigma)**2)\n",
    "    return temp_Chi2_val\n",
    "\n",
    "\n",
    "### Definitions for hadron = K_minus ####\n",
    "\n",
    "def ASivKMFitting(KV,m1,Ns,alphas,betas,Nubar):\n",
    "    QQ,x,z,pht=KV\n",
    "    array_size=len(x)\n",
    "    tempASivKM_val=[]\n",
    "    for i in range(0,array_size):\n",
    "        tempASivKM=Asymmetry(QQ[i],x[i],z[i],pht[i],m1,Ns,alphas,betas,Nubar,eS,eUbar,3,-2)\n",
    "        tempASivKM_val.append(tempASivKM)\n",
    "    return tempASivKM_val\n",
    "\n",
    "def Chi2KM(datfile,hadron,dependence,m1,Ns,alphas,betas,Nubar):\n",
    "    data_points=len(dataslice(datfile,hadron,dependence)[0])\n",
    "    temp_kinematics=np.array(dataslice(datfile,hadron,dependence))\n",
    "    tempQ=temp_kinematics[0]\n",
    "    tempX=temp_kinematics[1]\n",
    "    tempZ=temp_kinematics[2]\n",
    "    tempphT=temp_kinematics[3]\n",
    "    temp_exp=temp_kinematics[4]\n",
    "    temp_sigma=temp_kinematics[5]\n",
    "    temp_theory=ASivKMFitting((tempQ,tempX,tempZ,tempphT),m1,Ns,alphas,betas,Nubar)\n",
    "    temp_Chi2_val=np.sum(((temp_theory-temp_exp)/temp_sigma)**2)\n",
    "    return temp_Chi2_val\n",
    "\n",
    "\n",
    "\n",
    "def totalfit(KV,m1,Nu,alphau,betau,Ndbar,Nd,alphad,betad,Nubar,Ns,alphas,betas,Nsbar):\n",
    "    KV1PiP,KVPiM,KVPi0,KVKP,KVKM = KV\n",
    "    fitPiP=ASivPiPFitting(KV1PiP,m1,Nu,alphau,betau,Ndbar)\n",
    "    fitPiM=ASivPiMFitting(KVPiM,m1,Nd,alphad,betad,Nubar)\n",
    "    fitPi0=ASivPi0Fitting(KVPi0,m1,Nu,alphau,betau,Nubar)\n",
    "    fitKP =ASivKPFitting(KVKP,m1,Nu,alphau,betau,Nsbar)\n",
    "    fitKM =ASivKMFitting(KVKM,m1,Ns,alphas,betas,Nubar)\n",
    "    testtotalfit=np.concatenate((fitPiP,fitPiM,fitPi0,fitKP,fitKM))\n",
    "    return testtotalfit\n",
    "\n",
    "#totalfit((Kin_hadron(Datafile,\"pi+\"),Kin_hadron(Datafile,\"pi-\")),M1_test,NU_test,AlphaU_test,BetaU_test,NDbar_test,ND_test,AlphaD_test,BetaD_test,NUbar_test)"
   ]
  },
  {
   "cell_type": "code",
   "execution_count": null,
   "metadata": {},
   "outputs": [],
   "source": []
  },
  {
   "cell_type": "code",
   "execution_count": 13,
   "metadata": {},
   "outputs": [],
   "source": [
    "### Here we concatenate data corresponding to a given hadron in the SIDIS process\n",
    "\n",
    "def Kin_hadron(datfile,hadron):\n",
    "    ##### Q2 ################\n",
    "    tempQ2_x=np.array(dataslice(datfile,hadron,\"x\")[0])\n",
    "    tempQ2_z=np.array(dataslice(datfile,hadron,\"z\")[0])\n",
    "    tempQ2_phT=np.array(dataslice(datfile,hadron,\"phT\")[0])\n",
    "    tempQ2=np.concatenate((tempQ2_x,tempQ2_z,tempQ2_phT))\n",
    "    ##### X ################\n",
    "    tempX_x=np.array(dataslice(datfile,hadron,\"x\")[1])\n",
    "    tempX_z=np.array(dataslice(datfile,hadron,\"z\")[1])\n",
    "    tempX_phT=np.array(dataslice(datfile,hadron,\"phT\")[1])\n",
    "    tempX=np.concatenate((tempX_x,tempX_z,tempX_phT))\n",
    "    ##### Z ################\n",
    "    tempZ_x=np.array(dataslice(datfile,hadron,\"x\")[2])\n",
    "    tempZ_z=np.array(dataslice(datfile,hadron,\"z\")[2])\n",
    "    tempZ_phT=np.array(dataslice(datfile,hadron,\"phT\")[2])\n",
    "    tempZ=np.concatenate((tempZ_x,tempZ_z,tempZ_phT))\n",
    "    ##### phT ################\n",
    "    tempphT_x=np.array(dataslice(datfile,hadron,\"x\")[3])\n",
    "    tempphT_z=np.array(dataslice(datfile,hadron,\"z\")[3])\n",
    "    tempphT_phT=np.array(dataslice(datfile,hadron,\"phT\")[3])\n",
    "    tempphT=np.concatenate((tempphT_x,tempphT_z,tempphT_phT))\n",
    "    return tempQ2,tempX,tempZ,tempphT\n",
    "\n",
    "  \n",
    "def ASiv_data(datfile,hadron):\n",
    "    ##### Asy ################\n",
    "    tempAsy_x=np.array(dataslice(datfile,hadron,\"x\")[4])\n",
    "    tempAsy_z=np.array(dataslice(datfile,hadron,\"z\")[4])\n",
    "    tempAsy_phT=np.array(dataslice(datfile,hadron,\"phT\")[4])\n",
    "    tempAsy=np.concatenate((tempAsy_x,tempAsy_z,tempAsy_phT))\n",
    "    ##### err ################\n",
    "    tempAsyErr_x=np.array(dataslice(datfile,hadron,\"x\")[5])\n",
    "    tempAsyErr_z=np.array(dataslice(datfile,hadron,\"z\")[5])\n",
    "    tempAsyErr_phT=np.array(dataslice(datfile,hadron,\"phT\")[5])\n",
    "    tempAsyErr=np.concatenate((tempAsyErr_x,tempAsyErr_z,tempAsyErr_phT))\n",
    "    return tempAsy,tempAsyErr\n"
   ]
  },
  {
   "cell_type": "code",
   "execution_count": 14,
   "metadata": {},
   "outputs": [],
   "source": [
    "def KinConcat(datfile):\n",
    "    PiP_data=Kin_hadron(Datafile,\"pi+\")\n",
    "    PiM_data=Kin_hadron(Datafile,\"pi-\")\n",
    "    Pi0_data=Kin_hadron(Datafile,\"pi0\")\n",
    "    KP_data =Kin_hadron(Datafile,\"k+\")\n",
    "    KM_data =Kin_hadron(Datafile,\"k-\")\n",
    "    testQ  =np.concatenate((PiP_data[0],PiM_data[0],Pi0_data[0],KP_data[0],KM_data[0]))\n",
    "    testX  =np.concatenate((PiP_data[1],PiM_data[1],Pi0_data[1],KP_data[1],KM_data[1]))\n",
    "    testZ  =np.concatenate((PiP_data[2],PiM_data[2],Pi0_data[2],KP_data[2],KM_data[2]))\n",
    "    testphT=np.concatenate((PiP_data[3],PiM_data[3],Pi0_data[3],KP_data[3],KM_data[3]))\n",
    "    return testQ,testX,testZ,testphT\n",
    "\n",
    "\n",
    "#print(KinConcat(Datafile)[3])"
   ]
  },
  {
   "cell_type": "code",
   "execution_count": 15,
   "metadata": {},
   "outputs": [
    {
     "name": "stderr",
     "output_type": "stream",
     "text": [
      "<ipython-input-4-88435a4b36f3>:26: RuntimeWarning: invalid value encountered in double_scalars\n",
      "  tempNNq = Nq*(x**aq)*((1-x)**(bq))*((aq+bq)**(aq+bq))/((aq**aq)*(bq**bq))\n"
     ]
    }
   ],
   "source": [
    "### Fitting to the data for single hadron (all x,z,phT dependencies are considered)    \n",
    "#kin=np.concatenate((Kin_hadron(Datafile,\"pi+\"),Kin_hadron(Datafile,\"pi-\")))\n",
    "ASiv_PiP_dat=ASiv_data(Datafile,\"pi+\")\n",
    "ASiv_PiM_dat=ASiv_data(Datafile,\"pi-\")\n",
    "ASiv_Pi0_dat=ASiv_data(Datafile,\"pi0\")\n",
    "ASiv_KP_dat=ASiv_data(Datafile,\"k+\")\n",
    "ASiv_KM_dat=ASiv_data(Datafile,\"k-\")\n",
    "test_func=np.concatenate((ASiv_PiP_dat[0],ASiv_PiM_dat[0],ASiv_Pi0_dat[0],ASiv_KP_dat[0],ASiv_KM_dat[0]))\n",
    "test_func_err=np.concatenate((ASiv_PiP_dat[1],ASiv_PiM_dat[1],ASiv_Pi0_dat[1],ASiv_KP_dat[1],ASiv_KM_dat[1]))\n",
    "\n",
    "#p0=1,1,1,1,1,1,1,1,1\n",
    "p0=1,1,1,1,1,1,1,1,1,1,1,1,1\n",
    "#p0=M1_test,NU_test,AlphaU_test,BetaU_test,NDbar_test\n",
    "Kin_PiP=Kin_hadron(Datafile,\"pi+\")\n",
    "Kin_PiM=Kin_hadron(Datafile,\"pi-\")\n",
    "Kin_Pi0=Kin_hadron(Datafile,\"pi0\")\n",
    "Kin_KP=Kin_hadron(Datafile,\"k+\")\n",
    "Kin_KM=Kin_hadron(Datafile,\"k-\")\n",
    "result, result_cov=opt.curve_fit(totalfit,(Kin_PiP,Kin_PiM,Kin_Pi0,Kin_KP,Kin_KM),test_func,p0,sigma=test_func_err,method='lm')\n",
    "#print(len(KinConcat(Datafile)[0]))\n",
    "#print(len(test_func))\n",
    "#print(len(test_func_err))"
   ]
  },
  {
   "cell_type": "code",
   "execution_count": 16,
   "metadata": {},
   "outputs": [
    {
     "data": {
      "text/plain": [
       "array([ 0.0385,  0.0264,  0.0542,  0.0516,  0.0361,  0.0531,  0.0546,\n",
       "        0.0333,  0.0365,  0.0348,  0.0463,  0.0577,  0.0623,  0.0803,\n",
       "        0.0039,  0.0233,  0.0334,  0.0594,  0.0602,  0.063 ,  0.0632,\n",
       "        0.0104,  0.0169, -0.0157,  0.0103, -0.0053,  0.0204, -0.0192,\n",
       "        0.0088,  0.0072,  0.0205,  0.0007, -0.0007,  0.0117, -0.0099,\n",
       "        0.0078,  0.0122,  0.0069, -0.0064,  0.0044,  0.0026,  0.0292,\n",
       "        0.0113, -0.0331,  0.0585,  0.0264,  0.0174,  0.0419,  0.0784,\n",
       "        0.0387, -0.0006,  0.0325,  0.0487,  0.0239,  0.0162,  0.1001,\n",
       "        0.0128,  0.0667,  0.0625,  0.0575,  0.0177,  0.0315,  0.0196])"
      ]
     },
     "execution_count": 16,
     "metadata": {},
     "output_type": "execute_result"
    }
   ],
   "source": [
    "#Kin_hadron(Datafile,\"pi+\"),Kin_hadron(Datafile,\"pi-\"),Kin_hadron(Datafile,\"pi0\")\n",
    "test_func"
   ]
  },
  {
   "cell_type": "code",
   "execution_count": 16,
   "metadata": {},
   "outputs": [
    {
     "name": "stdout",
     "output_type": "stream",
     "text": [
      "[ 4.84623884e+00  5.27836322e-01  2.28554017e+00  8.75565812e+00\n",
      "  2.17046485e+00 -8.22018501e-02  8.63362466e-06  3.55997681e-02\n",
      "  1.84947726e-01 -2.96004609e+00  2.12157887e+01  3.87708461e+01\n",
      "  5.66296670e+01]\n"
     ]
    }
   ],
   "source": [
    "print(result)"
   ]
  },
  {
   "cell_type": "code",
   "execution_count": 69,
   "metadata": {},
   "outputs": [
    {
     "name": "stdout",
     "output_type": "stream",
     "text": [
      "[ 52.27395415   5.37068263   0.8055731    2.62195407   4.97493299\n",
      " -35.50804798  52.04655842  90.95942629   1.07020814]\n"
     ]
    }
   ],
   "source": [
    "print(result)"
   ]
  },
  {
   "cell_type": "code",
   "execution_count": 51,
   "metadata": {},
   "outputs": [],
   "source": [
    "dep=\"x\""
   ]
  },
  {
   "cell_type": "code",
   "execution_count": 52,
   "metadata": {},
   "outputs": [
    {
     "data": {
      "text/plain": [
       "10.098190679925855"
      ]
     },
     "execution_count": 52,
     "metadata": {},
     "output_type": "execute_result"
    }
   ],
   "source": [
    "dep=\"x\"\n",
    "Chi2PiP(Datafile,\"pi+\",dep,result[0],result[1],result[2],result[3],result[4]) "
   ]
  },
  {
   "cell_type": "code",
   "execution_count": 17,
   "metadata": {},
   "outputs": [
    {
     "name": "stdout",
     "output_type": "stream",
     "text": [
      "10.932523808838047\n"
     ]
    },
    {
     "data": {
      "text/plain": [
       "(0.0, 0.35)"
      ]
     },
     "execution_count": 17,
     "metadata": {},
     "output_type": "execute_result"
    },
    {
     "data": {
      "image/png": "[encoded data removed]",
      "text/plain": [
       "<Figure size 432x288 with 1 Axes>"
      ]
     },
     "metadata": {
      "needs_background": "light"
     },
     "output_type": "display_data"
    }
   ],
   "source": [
    "dep=\"x\"\n",
    "\n",
    "print(Chi2PiP(Datafile,\"pi+\",dep,result[0],result[1],result[2],result[3],result[4]))\n",
    "\n",
    "def PlotSiversPiP(datfile,hadron,dependence,m1,Nu,alphau,betau,Ndbar):\n",
    "    kperp2Avg=Kp2A\n",
    "    pperpAvg=Pp2A\n",
    "    eCharg=ee\n",
    "    eu=eU\n",
    "    edbar=eDbar\n",
    "    data_points=len(dataslice(datfile,hadron,dependence)[0])\n",
    "    temp_kinematics=np.array(dataslice(datfile,hadron,dependence))\n",
    "    if(dependence==\"x\"):\n",
    "        dep_index=1\n",
    "    elif(dependence==\"z\"):\n",
    "        dep_index=2\n",
    "    elif(dependence==\"phT\"):\n",
    "        dep_index=3\n",
    "    tempQ=temp_kinematics[0]\n",
    "    tempX=temp_kinematics[1]\n",
    "    tempZ=temp_kinematics[2]\n",
    "    tempphT=temp_kinematics[3]\n",
    "    temp_exp=temp_kinematics[4]\n",
    "    temp_sigma=temp_kinematics[5]\n",
    "    temp_theory=ASivPiPFitting((tempQ,tempX,tempZ,tempphT),m1,Nu,alphau,betau,Ndbar)\n",
    "    plt.plot(temp_kinematics[dep_index],temp_theory,'red')\n",
    "    plt.errorbar(temp_kinematics[dep_index],temp_kinematics[4],temp_kinematics[5],fmt='o',color='blue')\n",
    "\n",
    "PlotSiversPiP(Datafile,\"pi+\",dep,result[0],result[1],result[2],result[3],result[4])\n",
    "plt.ylim(0.0,0.1)\n",
    "plt.xlim(0.0,0.35)"
   ]
  },
  {
   "cell_type": "code",
   "execution_count": 86,
   "metadata": {},
   "outputs": [],
   "source": [
    "### This shows the solution by Anzelmino's fit results\n",
    "##PlotSiversPiP(Datafile,\"pi+\",dep,M1_test,NU_test,AlphaU_test,BetaU_test,NDbar_test)"
   ]
  },
  {
   "cell_type": "code",
   "execution_count": 18,
   "metadata": {},
   "outputs": [
    {
     "name": "stdout",
     "output_type": "stream",
     "text": [
      "12.125417572672582\n",
      "473.58852527244085\n"
     ]
    },
    {
     "data": {
      "image/png": "[encoded data removed]",
      "text/plain": [
       "<Figure size 432x288 with 1 Axes>"
      ]
     },
     "metadata": {
      "needs_background": "light"
     },
     "output_type": "display_data"
    }
   ],
   "source": [
    "dep=\"x\"\n",
    "\n",
    "print(Chi2PiM(Datafile,\"pi-\",dep,result[0],result[5],result[6],result[7],result[8]))\n",
    "print(Chi2PiM(Datafile,\"pi-\",dep,M1_test,ND_test,AlphaD_test,BetaD_test,NUbar_test))\n",
    "\n",
    "def PlotSiversPiM(datfile,hadron,dependence,m1,Nd,alphad,betad,Nubar):\n",
    "    kperp2Avg=Kp2A\n",
    "    pperpAvg=Pp2A\n",
    "    eCharg=ee\n",
    "    eu=eU\n",
    "    edbar=eDbar\n",
    "    data_points=len(dataslice(datfile,hadron,dependence)[0])\n",
    "    temp_kinematics=np.array(dataslice(datfile,hadron,dependence))\n",
    "    if(dependence==\"x\"):\n",
    "        dep_index=1\n",
    "    elif(dependence==\"z\"):\n",
    "        dep_index=2\n",
    "    elif(dependence==\"phT\"):\n",
    "        dep_index=3\n",
    "    tempQ=temp_kinematics[0]\n",
    "    tempX=temp_kinematics[1]\n",
    "    tempZ=temp_kinematics[2]\n",
    "    tempphT=temp_kinematics[3]\n",
    "    temp_exp=temp_kinematics[4]\n",
    "    temp_sigma=temp_kinematics[5]\n",
    "    temp_theory=ASivPiMFitting((tempQ,tempX,tempZ,tempphT),m1,Nd,alphad,betad,Nubar)\n",
    "    plt.plot(temp_kinematics[dep_index],temp_theory,'red')\n",
    "    plt.errorbar(temp_kinematics[dep_index],temp_kinematics[4],temp_kinematics[5],fmt='o',color='blue')\n",
    "\n",
    "PlotSiversPiM(Datafile,\"pi-\",dep,result[0],result[5],result[6],result[7],result[8])"
   ]
  },
  {
   "cell_type": "code",
   "execution_count": 87,
   "metadata": {},
   "outputs": [],
   "source": [
    "### This shows the solution by Anzelmino's fit results\n",
    "##PlotSiversPiM(Datafile,\"pi-\",dep,M1_test,ND_test,AlphaD_test,BetaD_test,NUbar_test)"
   ]
  },
  {
   "cell_type": "code",
   "execution_count": null,
   "metadata": {},
   "outputs": [],
   "source": []
  }
 ],
 "metadata": {
  "kernelspec": {
   "display_name": "Python 3",
   "language": "python",
   "name": "python3"
  },
  "language_info": {
   "codemirror_mode": {
    "name": "ipython",
    "version": 3
   },
   "file_extension": ".py",
   "mimetype": "text/x-python",
   "name": "python",
   "nbconvert_exporter": "python",
   "pygments_lexer": "ipython3",
   "version": "3.8.5"
  }
 },
 "nbformat": 4,
 "nbformat_minor": 4
}
