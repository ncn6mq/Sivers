{
 "cells": [
  {
   "cell_type": "markdown",
   "metadata": {},
   "source": [
    "# Obtaining PDFs and Fragementation Functions in LHAPDF"
   ]
  },
  {
   "cell_type": "markdown",
   "metadata": {},
   "source": [
    "### Installation steps for LHAPDF\n",
    "\n",
    "Assuming that the python3 is installed (for example python3.8 was used here)\n",
    "\n",
    "1) Download LHAPDF from https://lhapdf.hepforge.org/downloads\n",
    "\n",
    "or use:\n",
    "\n",
    " wget https://lhapdf.hepforge.org/downloads/?f=LHAPDF-6.X.Y.tar.gz -O LHAPDF-6.X.Y.tar.gz\n",
    " \n",
    " **for example: version 6.3.0**\n",
    "\n",
    "2) tar xf LHAPDF-6.X.Y.tar.gz\n",
    "\n",
    "3) cd LHAPDF-6.X.Y\n",
    "\n",
    "4) ./configure --prefix=/path/for/installation\n",
    "\n",
    "[The \"path\" hers is, the location that you want to install. For example: /home/LHAPDF_install]\n",
    "\n",
    "5) make\n",
    "\n",
    "6) make install\n",
    "\n",
    "7) Add the paths in your ~/.bashrc as follows \n",
    "\n",
    "* export PATH=LHADIR='/path/for/installation'\n",
    "* export PYTHONPATH=\\\\$LHADIR/lib/python3.8/site-packages:\\\\$PYTHONPATH\n",
    "* export PATH=\\\\$LHADIR/bin:\\\\$PATH\n",
    "* export LD_LIBRARY_PATH=\\\\$LHADIR/lib:\\\\$LD_LIBRARY_PATH\n",
    "\n",
    "8) Then download the data-sets/grids from https://lhapdf.hepforge.org/pdfsets.html\n",
    "\n",
    "9) Copy those data-sets/grids .zip files to '/path/of/LHAPDF/installation/share/LHAPDF/\n",
    "* sudo tar -xvzf name.tar.gz\n",
    "\n",
    "10) Each of those pdf-set folders contain central values and replicas with some confidence interval (see .info file on each folder for more details)\n"
   ]
  },
  {
   "cell_type": "code",
   "execution_count": 1,
   "metadata": {},
   "outputs": [],
   "source": [
    "import lhapdf\n",
    "import pandas as pd\n",
    "import numpy as np\n",
    "import matplotlib.pyplot as plt"
   ]
  },
  {
   "cell_type": "markdown",
   "metadata": {},
   "source": [
    "### Sample grids for x and z"
   ]
  },
  {
   "cell_type": "code",
   "execution_count": 2,
   "metadata": {},
   "outputs": [],
   "source": [
    "xinit=1.000000e-04\n",
    "deltax=1e-3\n",
    "xdata=np.arange(xinit, 1, deltax)\n",
    "\n",
    "zinit = 1.000000e-04\n",
    "deltaz = 1e-3\n",
    "zdata = np.arange(zinit, 1, deltaz)"
   ]
  },
  {
   "cell_type": "markdown",
   "metadata": {},
   "source": [
    "### Let's call PDF data sets"
   ]
  },
  {
   "cell_type": "code",
   "execution_count": 3,
   "metadata": {},
   "outputs": [],
   "source": [
    "PDFdataset = lhapdf.mkPDF(\"JAM19PDF_proton_nlo\")\n",
    "FF_pion_dataset=[\"JAM19FF_pion_nlo\"]\n",
    "FF_kaon_dataset=[\"JAM19FF_kaon_nlo\"]"
   ]
  },
  {
   "cell_type": "markdown",
   "metadata": {},
   "source": [
    "### Functions to read PDF grids and FF grids"
   ]
  },
  {
   "cell_type": "code",
   "execution_count": 4,
   "metadata": {},
   "outputs": [],
   "source": [
    "def xFxQ2(dataset,flavor,x,QQ):\n",
    "    temp_parton_dist_x=[(dataset.xfxQ2(flavor, x[i], QQ)) for i in range(len(x))]\n",
    "    return temp_parton_dist_x\n",
    "\n",
    "def zFzQ(dataset,flavor,zz,QQ):\n",
    "    # Here \"0\" represents the central values from the girds\n",
    "    temp_zD1=lhapdf.mkPDF(dataset[0], 0)\n",
    "    zD1_vec=[(temp_zD1.xfxQ2(flavor,zz[i],QQ)) for i in range(len(zz))]\n",
    "    return zD1_vec"
   ]
  },
  {
   "cell_type": "markdown",
   "metadata": {},
   "source": [
    "### Sample plot for u-quark distribution vs x"
   ]
  },
  {
   "cell_type": "code",
   "execution_count": 5,
   "metadata": {},
   "outputs": [
    {
     "data": {
      "image/png": "[encoded data removed]",
      "text/plain": [
       "<Figure size 432x288 with 1 Axes>"
      ]
     },
     "metadata": {
      "needs_background": "light"
     },
     "output_type": "display_data"
    }
   ],
   "source": [
    "Q2=10\n",
    "yyu=np.array(xFxQ2(PDFdataset,2,xdata,Q2))\n",
    "plt.plot(xdata,yyu,color='blue')\n",
    "plt.xlim(0.0001,1)\n",
    "plt.ylim(0,1.0)\n",
    "plt.xscale('log')"
   ]
  },
  {
   "cell_type": "markdown",
   "metadata": {},
   "source": [
    "### Sample plot for Fragmentation Function of u-quark into a pion"
   ]
  },
  {
   "cell_type": "code",
   "execution_count": 6,
   "metadata": {},
   "outputs": [
    {
     "data": {
      "text/plain": [
       "(0.0, 1.0)"
      ]
     },
     "execution_count": 6,
     "metadata": {},
     "output_type": "execute_result"
    },
    {
     "data": {
      "image/png": "[encoded data removed]",
      "text/plain": [
       "<Figure size 432x288 with 1 Axes>"
      ]
     },
     "metadata": {
      "needs_background": "light"
     },
     "output_type": "display_data"
    }
   ],
   "source": [
    "Q2=10\n",
    "test_FF=zFzQ(FF_pion_dataset,2,zdata,Q2)\n",
    "plt.plot(zdata,test_FF,color='green')\n",
    "plt.xlim(0.2,1.0)\n",
    "plt.ylim(0.0,1.0)"
   ]
  },
  {
   "cell_type": "code",
   "execution_count": null,
   "metadata": {},
   "outputs": [],
   "source": []
  }
 ],
 "metadata": {
  "kernelspec": {
   "display_name": "Python 3",
   "language": "python",
   "name": "python3"
  },
  "language_info": {
   "codemirror_mode": {
    "name": "ipython",
    "version": 3
   },
   "file_extension": ".py",
   "mimetype": "text/x-python",
   "name": "python",
   "nbconvert_exporter": "python",
   "pygments_lexer": "ipython3",
   "version": "3.8.5"
  }
 },
 "nbformat": 4,
 "nbformat_minor": 4
}
