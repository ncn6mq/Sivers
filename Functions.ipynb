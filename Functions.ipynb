{
 "cells": [
  {
   "cell_type": "markdown",
   "metadata": {},
   "source": [
    "# $\\pi^+$"
   ]
  },
  {
   "cell_type": "markdown",
   "metadata": {},
   "source": [
    "$$A_{Siv}^{\\pi^{+}}(x,z,p_{hT}) = \\mathcal{A}_0(z,p_{hT},M_1)\\left( \\frac{\\mathcal{N}_u e_u^2 f_{u}(x)D_{\\pi^+/u}(z) + {\\mathcal{N}_{\\bar{d}} e_{\\bar{d}}^2 f_{\\bar{d}}(x)D_{\\pi^+/{\\bar{d}}}(z)}}{e_u^2 f_{u}(x)D_{\\pi^+/u}(z)+e_{\\bar{d}}^2 f_{\\bar{d}}(x)D_{\\pi^+/\\bar{d}}(z)}\\right)$$"
   ]
  },
  {
   "cell_type": "markdown",
   "metadata": {},
   "source": [
    "## Functions"
   ]
  },
  {
   "cell_type": "markdown",
   "metadata": {},
   "source": [
    "$$\\mathcal{A}_0(z,p_{hT},M_1) = \\frac{[z^2 \\langle k_\\perp^2 \\rangle + \\langle p_\\perp^2 \\rangle  ]\\langle k_S^2 \\rangle^2}{[z^2 \\langle k_S^2 \\rangle + \\langle p_\\perp^2 \\rangle ]\\langle k_\\perp^2 \\rangle^2} \\exp \\left[- \\frac{p_{hT}^2z^2 \\left(\\langle k_S^2 \\rangle - \\langle k_\\perp^2 \\rangle \\right)}{\\left(z^2 \\langle k_S^2 \\rangle + \\langle p_\\perp^2 \\rangle \\right)\\left(z^2 \\langle k_\\perp^2 \\rangle + \\langle p_\\perp^2 \\rangle  \\right)} \\right]\\times \\frac{\\sqrt{2e}zp_{hT}}{M_1}$$"
   ]
  },
  {
   "cell_type": "markdown",
   "metadata": {},
   "source": [
    "$$\\mathcal{N}_q(x) = N_q x^{\\alpha_q}(1-x)^{\\beta_q}\\frac{(\\alpha_q + \\beta_q)^{(\\alpha_q + \\beta_q)}}{\\alpha_q^{\\alpha_q}\\beta_q^{\\beta_q}}$$"
   ]
  },
  {
   "cell_type": "markdown",
   "metadata": {},
   "source": [
    "$f_{u}(x)$ is the lhapdf\n",
    "\n",
    "$D_{\\pi^+/u}(z)$ is the fragmentation function"
   ]
  },
  {
   "cell_type": "markdown",
   "metadata": {},
   "source": [
    "## Constants"
   ]
  },
  {
   "cell_type": "markdown",
   "metadata": {},
   "source": [
    "- $\\langle k_\\perp^2 \\rangle$ \n",
    "- $\\langle p_\\perp^2 \\rangle$\n",
    "- $\\langle k_S^2 \\rangle$\n",
    "- $e_u$ = $2/3$\n",
    "- $e_\\bar{u}$ = $-2/3$\n",
    "- $e_d$ = $-1/3$\n",
    "- $e_\\bar{d}$ = $1/3$\n",
    "- $e_s$ = $-1/3$\n",
    "- $e_\\bar{s}$ = $1/3$\n",
    "- $e$ = $1/137$"
   ]
  },
  {
   "cell_type": "markdown",
   "metadata": {},
   "source": [
    "## Unknown parameters"
   ]
  },
  {
   "cell_type": "markdown",
   "metadata": {},
   "source": [
    "- $N_u$\n",
    "- $\\alpha_u$\n",
    "- $\\beta_u$\n",
    "- $N_{\\bar{d}}$\n",
    "- $\\alpha_{\\bar{d}}$\n",
    "- $\\beta_{\\bar{d}}$\n",
    "- $M_1$"
   ]
  },
  {
   "cell_type": "markdown",
   "metadata": {},
   "source": [
    "$$\\mathcal{N}_q(x) = N_q x^{\\alpha_q}(1-x)^{\\beta_q}\\frac{(\\alpha_q + \\beta_q)^{(\\alpha_q + \\beta_q)}}{\\alpha_q^{\\alpha_q}\\beta_q^{\\beta_q}}$$"
   ]
  },
  {
   "cell_type": "code",
   "execution_count": 31,
   "metadata": {},
   "outputs": [],
   "source": [
    "import lhapdf"
   ]
  },
  {
   "cell_type": "code",
   "execution_count": 48,
   "metadata": {},
   "outputs": [],
   "source": [
    "class Hadron(object):\n",
    "    def __init__(self, kperp2avg=.57, pperp2avg=.12, pdfset='JAM19PDF_proton_nlo',\n",
    "                 ff_pion='JAM19FF_pion_nlo', ff_kaon='JAM19FF_kaon_nlo', QQ=10):\n",
    "        \n",
    "        self.pdfData = lhapdf.mkPDF(pdfset)\n",
    "        self.ffData = lhapdf.mkPDF(ff_pion, 0)\n",
    "        # needs to be extended to generalize for kaons\n",
    "        self.QQ = QQ\n",
    "        self.kperp2avg = kperp2avg\n",
    "        self.pperp2avg = pperp2avg\n",
    "        self.eu = 2/3\n",
    "        self.eubar = -2/3\n",
    "        self.ed = -1/3\n",
    "        self.edbar = 1/3\n",
    "        self.es = -1/3\n",
    "        self.esbar = 1/3\n",
    "        self.e = 1/137\n",
    "    \n",
    "\n",
    "    def pdf(self, flavor, x):\n",
    "        return np.array([self.pdfData.xfxQ2(flavor, ax, self.QQ) for ax in x])\n",
    "    \n",
    "    def ff(self, flavor, z):\n",
    "        return np.array([self.ffData.xfxQ2(flavor, az, self.QQ) for az in z])\n",
    "    \n",
    "    \n",
    "    def A0(self, z, pht, m1):\n",
    "        ks2avg = self.kperp2avg*m1**2/(m1**2 + self.kperp2avg)\n",
    "        topfirst = (np.square(z)*self.kperp2avg + self.pperp2avg)*self.kperp2avg**2\n",
    "        bottomfirst = (np.square(z)*ks2avg + self.pperp2avg) * self.kperp2avg**2\n",
    "        exptop = np.square(pht) * np.square(z) * (ks2avg - self.kperp2avg)\n",
    "        expbottom = (np.square(z)*ks2avg + self.pperp2avg) * (np.square(z)*self.kperp2avg + self.pperp2avg)\n",
    "        last = np.sqrt(2*self.e) * z * pht / m1\n",
    "        \n",
    "        return (topfirst/bottomfirst) * np.exp(-exptop/expbottom) * last\n",
    "    \n",
    "    \n",
    "    def NN(self, x, n, a, b):\n",
    "        return n*np.power(x, a) * np.power(1 - x, b) * (((a + b)**(a + b))/(a**a * b**b))\n",
    "\n",
    "    def NNanti(self, x, n):\n",
    "        return n\n",
    "            \n",
    "    \n",
    "    "
   ]
  },
  {
   "cell_type": "code",
   "execution_count": 49,
   "metadata": {},
   "outputs": [],
   "source": [
    "import numpy as np"
   ]
  },
  {
   "cell_type": "code",
   "execution_count": 50,
   "metadata": {},
   "outputs": [],
   "source": [
    "class PiPlus(Hadron):\n",
    "    def __init__(self, kperp2avg=.57, pperp2avg=.12, pdfset='JAM19PDF_proton_nlo',\n",
    "                 ff_pion='JAM19FF_pion_nlo', QQ=10):\n",
    "        \n",
    "        super().__init__(kperp2avg=kperp2avg, pperp2avg=pperp2avg, pdfset=pdfset,\n",
    "                 ff_pion=ff_pion, QQ=QQ)\n",
    "        \n",
    "    \n",
    "    def sivers(self, kins, Nu, au, bu, Ndbar, adbar, bdbar, m1):\n",
    "        x = kins[:, 0]\n",
    "        z = kins[:, 1]\n",
    "        pht = kins[:, 2]\n",
    "        a0 = self.A0(z, pht, m1)\n",
    "        topleft = self.NN(x, Nu, au, bu) * self.eu**2 * self.pdf(2, x) * self.ff(2, z)\n",
    "        topright = self.NNanti(x, Ndbar) * self.edbar**2 * self.pdf(-1, x) * self.ff(-1, z)\n",
    "        bottomleft = self.eu**2 * self.pdf(2, x) * self.ff(2, z)\n",
    "        bottomright = self.edbar**2 * self.pdf(-1, x) * self.ff(-1, z)\n",
    "        return a0*((topleft + topright)/(bottomleft + bottomright))"
   ]
  },
  {
   "cell_type": "code",
   "execution_count": 51,
   "metadata": {},
   "outputs": [],
   "source": [
    "pip = PiPlus()"
   ]
  },
  {
   "cell_type": "code",
   "execution_count": 38,
   "metadata": {},
   "outputs": [
    {
     "data": {
      "text/plain": [
       "array([1, 4, 9])"
      ]
     },
     "execution_count": 38,
     "metadata": {},
     "output_type": "execute_result"
    }
   ],
   "source": [
    "np.array([1, 2, 3])**2"
   ]
  },
  {
   "cell_type": "code",
   "execution_count": 39,
   "metadata": {},
   "outputs": [],
   "source": [
    "import pandas as pd"
   ]
  },
  {
   "cell_type": "code",
   "execution_count": 40,
   "metadata": {},
   "outputs": [],
   "source": [
    "df = pd.read_csv('COMPASS_d_2009.csv')"
   ]
  },
  {
   "cell_type": "code",
   "execution_count": 41,
   "metadata": {},
   "outputs": [],
   "source": [
    "pipdata = df.loc[df['hadron'] == 'pi+', :]"
   ]
  },
  {
   "cell_type": "code",
   "execution_count": 43,
   "metadata": {},
   "outputs": [],
   "source": [
    "kins = np.array(pipdata[['x', 'z', 'phT']])"
   ]
  },
  {
   "cell_type": "code",
   "execution_count": null,
   "metadata": {},
   "outputs": [],
   "source": [
    "kins"
   ]
  },
  {
   "cell_type": "code",
   "execution_count": 52,
   "metadata": {},
   "outputs": [
    {
     "data": {
      "text/plain": [
       "array([0.00307976, 0.00429643, 0.0059507 , 0.00748906, 0.01047004,\n",
       "       0.01519049, 0.01977303, 0.0198893 , 0.00453345, 0.00530429,\n",
       "       0.00543865, 0.00576814, 0.00688007, 0.00857435, 0.01127992,\n",
       "       0.01638525, 0.02574682, 0.0018364 , 0.00305678, 0.00440506,\n",
       "       0.00601993, 0.0082816 , 0.01175141, 0.01877372, 0.03707232,\n",
       "       0.19386578])"
      ]
     },
     "execution_count": 52,
     "metadata": {},
     "output_type": "execute_result"
    }
   ],
   "source": [
    "pip.sivers(kins, 1., 1., 1., 1., 1., 1., 1.)"
   ]
  },
  {
   "cell_type": "code",
   "execution_count": 28,
   "metadata": {},
   "outputs": [
    {
     "data": {
      "text/plain": [
       "0"
      ]
     },
     "execution_count": 28,
     "metadata": {},
     "output_type": "execute_result"
    }
   ],
   "source": [
    "1"
   ]
  },
  {
   "cell_type": "code",
   "execution_count": null,
   "metadata": {},
   "outputs": [],
   "source": []
  }
 ],
 "metadata": {
  "kernelspec": {
   "display_name": "Python 3",
   "language": "python",
   "name": "python3"
  },
  "language_info": {
   "codemirror_mode": {
    "name": "ipython",
    "version": 3
   },
   "file_extension": ".py",
   "mimetype": "text/x-python",
   "name": "python",
   "nbconvert_exporter": "python",
   "pygments_lexer": "ipython3",
   "version": "3.8.5"
  }
 },
 "nbformat": 4,
 "nbformat_minor": 2
}
